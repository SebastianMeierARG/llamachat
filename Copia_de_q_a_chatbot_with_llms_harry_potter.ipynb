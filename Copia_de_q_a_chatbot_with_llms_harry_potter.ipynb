{
  "cells": [
    {
      "cell_type": "markdown",
      "metadata": {
        "id": "view-in-github",
        "colab_type": "text"
      },
      "source": [
        "<a href=\"https://colab.research.google.com/github/castillosebastian/llamachat/blob/main/Copia_de_q_a_chatbot_with_llms_harry_potter.ipynb\" target=\"_parent\"><img src=\"https://colab.research.google.com/assets/colab-badge.svg\" alt=\"Open In Colab\"/></a>"
      ]
    },
    {
      "cell_type": "markdown",
      "id": "01c34d49",
      "metadata": {
        "papermill": {
          "duration": 0.025731,
          "end_time": "2023-08-01T23:45:17.074403",
          "exception": false,
          "start_time": "2023-08-01T23:45:17.048672",
          "status": "completed"
        },
        "tags": [],
        "id": "01c34d49"
      },
      "source": [
        "# About\n",
        "\n",
        "- Use [Langchain](https://python.langchain.com/en/latest/index.html) to build a chatbot that can answer questions about [Harry Potter books](https://www.kaggle.com/datasets/hinepo/harry-potter-books-in-pdf-1-7)\n",
        "- Experiment with various LLMs (Large Language Models)\n",
        "- Use [ChromaDB vector store](https://python.langchain.com/docs/integrations/vectorstores/chroma) to store text embeddings with [Instructor-Finetuned Text Embeddings](https://arxiv.org/pdf/2212.09741.pdf) from [Hugging Face](https://huggingface.co/hkunlp/instructor-large)\n",
        "- Use [Retrieval chain](https://python.langchain.com/docs/modules/data_connection/retrievers/) to retrieve relevant passages from embedded text\n",
        "- Summarize retrieved passages\n",
        "- Chat UI with [Gradio](https://www.gradio.app/guides/quickstart)\n",
        "\n",
        "No need to create any API key to use this notebook! Everything is open source.\n",
        "\n",
        "Upvote the notebook if you learn from it or use it! :)\n",
        "\n",
        "This will help me keep experimenting with new models as soon as they are released\n",
        "\n",
        "### Models\n",
        "\n",
        "- [WizardLM](https://huggingface.co/TheBloke/wizardLM-7B-HF)\n",
        "- [Falcon](https://huggingface.co/h2oai/h2ogpt-gm-oasst1-en-2048-falcon-7b-v2)\n",
        "- [Llama 2-7b](https://huggingface.co/daryl149/llama-2-7b-chat-hf)\n",
        "- [Llama 2-13b](https://huggingface.co/daryl149/llama-2-13b-chat-hf)\n",
        "- [Bloom](https://huggingface.co/bigscience/bloom-7b1)"
      ]
    },
    {
      "cell_type": "markdown",
      "id": "af86dae8",
      "metadata": {
        "papermill": {
          "duration": 0.023318,
          "end_time": "2023-08-01T23:45:17.121868",
          "exception": false,
          "start_time": "2023-08-01T23:45:17.098550",
          "status": "completed"
        },
        "tags": [],
        "id": "af86dae8"
      },
      "source": [
        "![image.png](attachment:4dc05295-4765-45ef-88c3-a9be30a35320.png)\n",
        "\n",
        "img source: HinePo"
      ]
    },
    {
      "cell_type": "code",
      "execution_count": null,
      "id": "78a44506",
      "metadata": {
        "execution": {
          "iopub.execute_input": "2023-08-01T23:45:17.171402Z",
          "iopub.status.busy": "2023-08-01T23:45:17.170620Z",
          "iopub.status.idle": "2023-08-01T23:45:18.143409Z",
          "shell.execute_reply": "2023-08-01T23:45:18.142286Z"
        },
        "papermill": {
          "duration": 1.000773,
          "end_time": "2023-08-01T23:45:18.146132",
          "exception": false,
          "start_time": "2023-08-01T23:45:17.145359",
          "status": "completed"
        },
        "tags": [],
        "id": "78a44506",
        "outputId": "6eb6b7a5-a518-4d52-ee83-ff1aa2a62952"
      },
      "outputs": [
        {
          "name": "stdout",
          "output_type": "stream",
          "text": [
            "GPU 0: Tesla T4 (UUID: GPU-06b28577-c0f9-3da6-f6c3-058c2e6bf9bb)\r\n",
            "GPU 1: Tesla T4 (UUID: GPU-6d5aabb7-bc35-4bca-e1bd-57583d4273ba)\r\n"
          ]
        }
      ],
      "source": [
        "! nvidia-smi -L"
      ]
    },
    {
      "cell_type": "markdown",
      "id": "b9082245",
      "metadata": {
        "papermill": {
          "duration": 0.023641,
          "end_time": "2023-08-01T23:45:18.194420",
          "exception": false,
          "start_time": "2023-08-01T23:45:18.170779",
          "status": "completed"
        },
        "tags": [],
        "id": "b9082245"
      },
      "source": [
        "# Installs"
      ]
    },
    {
      "cell_type": "code",
      "execution_count": null,
      "id": "6446c793",
      "metadata": {
        "_kg_hide-output": true,
        "execution": {
          "iopub.execute_input": "2023-08-01T23:45:18.243686Z",
          "iopub.status.busy": "2023-08-01T23:45:18.243299Z",
          "iopub.status.idle": "2023-08-01T23:49:42.187809Z",
          "shell.execute_reply": "2023-08-01T23:49:42.186149Z"
        },
        "papermill": {
          "duration": 263.972392,
          "end_time": "2023-08-01T23:49:42.190145",
          "exception": false,
          "start_time": "2023-08-01T23:45:18.217753",
          "status": "completed"
        },
        "tags": [],
        "id": "6446c793",
        "outputId": "83693a00-df88-4ef0-fb7b-c25053806ab2"
      },
      "outputs": [
        {
          "name": "stdout",
          "output_type": "stream",
          "text": [
            "\u001b[31mERROR: pip's dependency resolver does not currently take into account all the packages that are installed. This behaviour is the source of the following dependency conflicts.\r\n",
            "beatrix-jupyterlab 2023.58.190319 requires jupyter-server~=1.16, but you have jupyter-server 2.5.0 which is incompatible.\r\n",
            "google-cloud-pubsublite 1.8.1 requires overrides<7.0.0,>=6.0.1, but you have overrides 7.3.1 which is incompatible.\r\n",
            "momepy 0.6.0 requires shapely>=2, but you have shapely 1.8.5.post1 which is incompatible.\r\n",
            "ydata-profiling 4.1.2 requires scipy<1.10,>=1.4.1, but you have scipy 1.10.1 which is incompatible.\r\n",
            "ydata-profiling 4.1.2 requires tqdm<4.65,>=4.48.2, but you have tqdm 4.65.0 which is incompatible.\u001b[0m\u001b[31m\r\n",
            "\u001b[0m\u001b[31mERROR: pip's dependency resolver does not currently take into account all the packages that are installed. This behaviour is the source of the following dependency conflicts.\r\n",
            "torchdata 0.6.0 requires torch==2.0.0, but you have torch 2.0.1 which is incompatible.\u001b[0m\u001b[31m\r\n",
            "\u001b[0mCPU times: user 3.37 s, sys: 502 ms, total: 3.87 s\n",
            "Wall time: 4min 23s\n"
          ]
        }
      ],
      "source": [
        "%%time\n",
        "\n",
        "! pip install -qq -U langchain tiktoken pypdf chromadb faiss-gpu\n",
        "! pip install -qq -U transformers InstructorEmbedding sentence_transformers\n",
        "! pip install -qq -U accelerate bitsandbytes xformers einops"
      ]
    },
    {
      "cell_type": "markdown",
      "id": "a19d824e",
      "metadata": {
        "papermill": {
          "duration": 0.024974,
          "end_time": "2023-08-01T23:49:42.240272",
          "exception": false,
          "start_time": "2023-08-01T23:49:42.215298",
          "status": "completed"
        },
        "tags": [],
        "id": "a19d824e"
      },
      "source": [
        "# Imports"
      ]
    },
    {
      "cell_type": "code",
      "execution_count": null,
      "id": "2437c968",
      "metadata": {
        "execution": {
          "iopub.execute_input": "2023-08-01T23:49:42.290646Z",
          "iopub.status.busy": "2023-08-01T23:49:42.290227Z",
          "iopub.status.idle": "2023-08-01T23:50:02.577759Z",
          "shell.execute_reply": "2023-08-01T23:50:02.576682Z"
        },
        "papermill": {
          "duration": 20.315515,
          "end_time": "2023-08-01T23:50:02.579883",
          "exception": false,
          "start_time": "2023-08-01T23:49:42.264368",
          "status": "completed"
        },
        "tags": [],
        "id": "2437c968",
        "outputId": "c45af6fb-4d9e-40ff-ffd2-43991a37d8d7"
      },
      "outputs": [
        {
          "name": "stdout",
          "output_type": "stream",
          "text": [
            "0.0.249\n"
          ]
        }
      ],
      "source": [
        "import warnings\n",
        "warnings.filterwarnings(\"ignore\")\n",
        "\n",
        "import os\n",
        "import glob\n",
        "import textwrap\n",
        "import time\n",
        "\n",
        "import langchain\n",
        "\n",
        "# loaders\n",
        "from langchain.document_loaders import PyPDFLoader\n",
        "from langchain.document_loaders import DirectoryLoader\n",
        "\n",
        "# splits\n",
        "from langchain.text_splitter import RecursiveCharacterTextSplitter\n",
        "\n",
        "# prompts\n",
        "from langchain import PromptTemplate, ConversationChain, LLMChain\n",
        "\n",
        "# vector stores\n",
        "from langchain.vectorstores import Chroma, FAISS\n",
        "\n",
        "# models\n",
        "from langchain.llms import HuggingFacePipeline\n",
        "from InstructorEmbedding import INSTRUCTOR\n",
        "from langchain.embeddings import HuggingFaceInstructEmbeddings\n",
        "\n",
        "# retrievers\n",
        "from langchain.chains import RetrievalQA, ConversationalRetrievalChain\n",
        "\n",
        "import torch\n",
        "import transformers\n",
        "from transformers import AutoTokenizer, AutoModelForCausalLM, pipeline\n",
        "\n",
        "print(langchain.__version__)"
      ]
    },
    {
      "cell_type": "code",
      "execution_count": null,
      "id": "d2d2cc9e",
      "metadata": {
        "execution": {
          "iopub.execute_input": "2023-08-01T23:50:02.634022Z",
          "iopub.status.busy": "2023-08-01T23:50:02.633708Z",
          "iopub.status.idle": "2023-08-01T23:50:02.653683Z",
          "shell.execute_reply": "2023-08-01T23:50:02.652737Z"
        },
        "papermill": {
          "duration": 0.048705,
          "end_time": "2023-08-01T23:50:02.655677",
          "exception": false,
          "start_time": "2023-08-01T23:50:02.606972",
          "status": "completed"
        },
        "tags": [],
        "id": "d2d2cc9e",
        "outputId": "c9997237-febd-44f4-c969-ce3cbfb8e875"
      },
      "outputs": [
        {
          "data": {
            "text/plain": [
              "['/kaggle/input/harry-potter-books-in-pdf-1-7/HP books/Harry Potter - Book 1 - The Sorcerers Stone.pdf',\n",
              " '/kaggle/input/harry-potter-books-in-pdf-1-7/HP books/Harry Potter - Book 5 - The Order of the Phoenix.pdf',\n",
              " '/kaggle/input/harry-potter-books-in-pdf-1-7/HP books/Harry Potter - Book 4 - The Goblet of Fire.pdf',\n",
              " '/kaggle/input/harry-potter-books-in-pdf-1-7/HP books/Harry Potter - Book 3 - The Prisoner of Azkaban.pdf',\n",
              " '/kaggle/input/harry-potter-books-in-pdf-1-7/HP books/Harry Potter - Book 6 - The Half-Blood Prince.pdf',\n",
              " '/kaggle/input/harry-potter-books-in-pdf-1-7/HP books/Harry Potter - Book 7 - The Deathly Hallows.pdf',\n",
              " '/kaggle/input/harry-potter-books-in-pdf-1-7/HP books/Harry Potter - Book 2 - The Chamber of Secrets.pdf']"
            ]
          },
          "execution_count": 4,
          "metadata": {},
          "output_type": "execute_result"
        }
      ],
      "source": [
        "glob.glob('/kaggle/input/harry-potter-books-in-pdf-1-7/HP books/*')"
      ]
    },
    {
      "cell_type": "markdown",
      "id": "6c2662a0",
      "metadata": {
        "papermill": {
          "duration": 0.024771,
          "end_time": "2023-08-01T23:50:02.705472",
          "exception": false,
          "start_time": "2023-08-01T23:50:02.680701",
          "status": "completed"
        },
        "tags": [],
        "id": "6c2662a0"
      },
      "source": [
        "# CFG\n",
        "\n",
        "- CFG class enables easy and organized experimentation"
      ]
    },
    {
      "cell_type": "code",
      "execution_count": null,
      "id": "806dfeba",
      "metadata": {
        "execution": {
          "iopub.execute_input": "2023-08-01T23:50:02.761885Z",
          "iopub.status.busy": "2023-08-01T23:50:02.761578Z",
          "iopub.status.idle": "2023-08-01T23:50:02.767516Z",
          "shell.execute_reply": "2023-08-01T23:50:02.766496Z"
        },
        "papermill": {
          "duration": 0.038942,
          "end_time": "2023-08-01T23:50:02.769522",
          "exception": false,
          "start_time": "2023-08-01T23:50:02.730580",
          "status": "completed"
        },
        "tags": [],
        "id": "806dfeba"
      },
      "outputs": [],
      "source": [
        "class CFG:\n",
        "    # LLMs\n",
        "    model_name = 'llama2-13b' # wizardlm, bloom, falcon, llama2-7b, llama2-13b\n",
        "    temperature = 0,\n",
        "    top_p = 0.95,\n",
        "    repetition_penalty = 1.15\n",
        "\n",
        "    # splitting\n",
        "    split_chunk_size = 800\n",
        "    split_overlap = 0\n",
        "\n",
        "    # embeddings\n",
        "    embeddings_model_repo = 'hkunlp/instructor-base'\n",
        "\n",
        "    # similar passages\n",
        "    k = 3\n",
        "\n",
        "    # paths\n",
        "    PDFs_path = '/kaggle/input/harry-potter-books-in-pdf-1-7/HP books/'\n",
        "    Embeddings_path =  '/kaggle/input/private-hp-embeddings-instructor-base-800-0/harry-potter-vectordb-chroma'\n",
        "    Persist_directory = './harry-potter-vectordb-chroma'"
      ]
    },
    {
      "cell_type": "markdown",
      "id": "77a5d2fe",
      "metadata": {
        "papermill": {
          "duration": 0.023921,
          "end_time": "2023-08-01T23:50:02.818161",
          "exception": false,
          "start_time": "2023-08-01T23:50:02.794240",
          "status": "completed"
        },
        "tags": [],
        "id": "77a5d2fe"
      },
      "source": [
        "# Define model"
      ]
    },
    {
      "cell_type": "code",
      "execution_count": null,
      "id": "eff29cb2",
      "metadata": {
        "execution": {
          "iopub.execute_input": "2023-08-01T23:50:02.868877Z",
          "iopub.status.busy": "2023-08-01T23:50:02.868556Z",
          "iopub.status.idle": "2023-08-01T23:50:02.879953Z",
          "shell.execute_reply": "2023-08-01T23:50:02.879117Z"
        },
        "papermill": {
          "duration": 0.038983,
          "end_time": "2023-08-01T23:50:02.881831",
          "exception": false,
          "start_time": "2023-08-01T23:50:02.842848",
          "status": "completed"
        },
        "tags": [],
        "id": "eff29cb2"
      },
      "outputs": [],
      "source": [
        "def get_model(model = CFG.model_name):\n",
        "\n",
        "    print('\\nDownloading model: ', model, '\\n\\n')\n",
        "\n",
        "    if model == 'wizardlm':\n",
        "        model_repo = 'TheBloke/wizardLM-7B-HF'\n",
        "\n",
        "        tokenizer = AutoTokenizer.from_pretrained(model_repo)\n",
        "\n",
        "        model = AutoModelForCausalLM.from_pretrained(\n",
        "            model_repo,\n",
        "            load_in_4bit=True,\n",
        "            device_map='auto',\n",
        "            torch_dtype=torch.float16,\n",
        "            low_cpu_mem_usage=True\n",
        "            )\n",
        "\n",
        "        max_len = 1024\n",
        "\n",
        "    elif model == 'llama2-7b':\n",
        "        model_repo = 'daryl149/llama-2-7b-chat-hf'\n",
        "\n",
        "        tokenizer = AutoTokenizer.from_pretrained(model_repo, use_fast=True)\n",
        "\n",
        "        model = AutoModelForCausalLM.from_pretrained(\n",
        "            model_repo,\n",
        "            load_in_4bit=True,\n",
        "            device_map='auto',\n",
        "            torch_dtype=torch.float16,\n",
        "            low_cpu_mem_usage=True,\n",
        "            trust_remote_code=True\n",
        "            )\n",
        "\n",
        "        max_len = 2048\n",
        "\n",
        "    elif model == 'llama2-13b':\n",
        "        model_repo = 'daryl149/llama-2-13b-chat-hf'\n",
        "\n",
        "        tokenizer = AutoTokenizer.from_pretrained(model_repo, use_fast=True)\n",
        "\n",
        "        model = AutoModelForCausalLM.from_pretrained(\n",
        "            model_repo,\n",
        "            load_in_4bit=True,\n",
        "            device_map='auto',\n",
        "            torch_dtype=torch.float16,\n",
        "            low_cpu_mem_usage=True,\n",
        "            trust_remote_code=True\n",
        "            )\n",
        "\n",
        "        max_len = 8192\n",
        "\n",
        "    elif model == 'bloom':\n",
        "        model_repo = 'bigscience/bloom-7b1'\n",
        "\n",
        "        tokenizer = AutoTokenizer.from_pretrained(model_repo)\n",
        "\n",
        "        model = AutoModelForCausalLM.from_pretrained(\n",
        "            model_repo,\n",
        "            load_in_4bit=True,\n",
        "            device_map='auto',\n",
        "            torch_dtype=torch.float16,\n",
        "            low_cpu_mem_usage=True,\n",
        "            )\n",
        "\n",
        "        max_len = 1024\n",
        "\n",
        "    elif model == 'falcon':\n",
        "        model_repo = 'h2oai/h2ogpt-gm-oasst1-en-2048-falcon-7b-v2'\n",
        "\n",
        "        tokenizer = AutoTokenizer.from_pretrained(model_repo)\n",
        "\n",
        "        model = AutoModelForCausalLM.from_pretrained(\n",
        "            model_repo,\n",
        "            load_in_4bit=True,\n",
        "            device_map='auto',\n",
        "            torch_dtype=torch.float16,\n",
        "            low_cpu_mem_usage=True,\n",
        "            trust_remote_code=True\n",
        "            )\n",
        "\n",
        "        max_len = 1024\n",
        "\n",
        "    else:\n",
        "        print(\"Not implemented model (tokenizer and backbone)\")\n",
        "\n",
        "    return tokenizer, model, max_len"
      ]
    },
    {
      "cell_type": "code",
      "execution_count": null,
      "id": "0f09f8b5",
      "metadata": {
        "execution": {
          "iopub.execute_input": "2023-08-01T23:50:02.932564Z",
          "iopub.status.busy": "2023-08-01T23:50:02.931769Z",
          "iopub.status.idle": "2023-08-01T23:57:48.922839Z",
          "shell.execute_reply": "2023-08-01T23:57:48.921770Z"
        },
        "papermill": {
          "duration": 466.021495,
          "end_time": "2023-08-01T23:57:48.928245",
          "exception": false,
          "start_time": "2023-08-01T23:50:02.906750",
          "status": "completed"
        },
        "tags": [],
        "id": "0f09f8b5",
        "outputId": "ac437d0c-ea58-4af8-ba15-564a1f3f18fb",
        "colab": {
          "referenced_widgets": [
            "e4b03d051c694094a8b27e6c870b6d0c",
            "fe89322aa02649938ee33491168a17c8",
            "54d1c216808f4c79960846ee0a368152",
            "73982c3cf90b40ec822c074d421eed8e",
            "a420031bc04543969d84c9c70f7f172b",
            "4bea5d2c55a4435db8df113d7d324d35",
            "8a4096bef458429db04f1d8f50eea73c",
            "0049e2a192b14d6a8bf9230d7d2b1f4b",
            "661dce1b70e046898821b5143b828c01",
            "2221b1f1438544c08271717d0eb68c73",
            "27968864a59849afbb2695cd3a189a61",
            "1259d11fb356470e89345cab98cd075d"
          ]
        }
      },
      "outputs": [
        {
          "name": "stdout",
          "output_type": "stream",
          "text": [
            "\n",
            "Downloading model:  llama2-13b \n",
            "\n",
            "\n"
          ]
        },
        {
          "data": {
            "application/vnd.jupyter.widget-view+json": {
              "model_id": "e4b03d051c694094a8b27e6c870b6d0c",
              "version_major": 2,
              "version_minor": 0
            },
            "text/plain": [
              "Downloading (…)okenizer_config.json:   0%|          | 0.00/727 [00:00<?, ?B/s]"
            ]
          },
          "metadata": {},
          "output_type": "display_data"
        },
        {
          "data": {
            "application/vnd.jupyter.widget-view+json": {
              "model_id": "fe89322aa02649938ee33491168a17c8",
              "version_major": 2,
              "version_minor": 0
            },
            "text/plain": [
              "Downloading tokenizer.model:   0%|          | 0.00/500k [00:00<?, ?B/s]"
            ]
          },
          "metadata": {},
          "output_type": "display_data"
        },
        {
          "data": {
            "application/vnd.jupyter.widget-view+json": {
              "model_id": "54d1c216808f4c79960846ee0a368152",
              "version_major": 2,
              "version_minor": 0
            },
            "text/plain": [
              "Downloading (…)/main/tokenizer.json:   0%|          | 0.00/1.84M [00:00<?, ?B/s]"
            ]
          },
          "metadata": {},
          "output_type": "display_data"
        },
        {
          "data": {
            "application/vnd.jupyter.widget-view+json": {
              "model_id": "73982c3cf90b40ec822c074d421eed8e",
              "version_major": 2,
              "version_minor": 0
            },
            "text/plain": [
              "Downloading (…)cial_tokens_map.json:   0%|          | 0.00/411 [00:00<?, ?B/s]"
            ]
          },
          "metadata": {},
          "output_type": "display_data"
        },
        {
          "data": {
            "application/vnd.jupyter.widget-view+json": {
              "model_id": "a420031bc04543969d84c9c70f7f172b",
              "version_major": 2,
              "version_minor": 0
            },
            "text/plain": [
              "Downloading (…)lve/main/config.json:   0%|          | 0.00/507 [00:00<?, ?B/s]"
            ]
          },
          "metadata": {},
          "output_type": "display_data"
        },
        {
          "data": {
            "application/vnd.jupyter.widget-view+json": {
              "model_id": "4bea5d2c55a4435db8df113d7d324d35",
              "version_major": 2,
              "version_minor": 0
            },
            "text/plain": [
              "Downloading (…)model.bin.index.json:   0%|          | 0.00/33.4k [00:00<?, ?B/s]"
            ]
          },
          "metadata": {},
          "output_type": "display_data"
        },
        {
          "data": {
            "application/vnd.jupyter.widget-view+json": {
              "model_id": "8a4096bef458429db04f1d8f50eea73c",
              "version_major": 2,
              "version_minor": 0
            },
            "text/plain": [
              "Downloading shards:   0%|          | 0/3 [00:00<?, ?it/s]"
            ]
          },
          "metadata": {},
          "output_type": "display_data"
        },
        {
          "data": {
            "application/vnd.jupyter.widget-view+json": {
              "model_id": "0049e2a192b14d6a8bf9230d7d2b1f4b",
              "version_major": 2,
              "version_minor": 0
            },
            "text/plain": [
              "Downloading (…)l-00001-of-00003.bin:   0%|          | 0.00/9.95G [00:00<?, ?B/s]"
            ]
          },
          "metadata": {},
          "output_type": "display_data"
        },
        {
          "data": {
            "application/vnd.jupyter.widget-view+json": {
              "model_id": "661dce1b70e046898821b5143b828c01",
              "version_major": 2,
              "version_minor": 0
            },
            "text/plain": [
              "Downloading (…)l-00002-of-00003.bin:   0%|          | 0.00/9.90G [00:00<?, ?B/s]"
            ]
          },
          "metadata": {},
          "output_type": "display_data"
        },
        {
          "data": {
            "application/vnd.jupyter.widget-view+json": {
              "model_id": "2221b1f1438544c08271717d0eb68c73",
              "version_major": 2,
              "version_minor": 0
            },
            "text/plain": [
              "Downloading (…)l-00003-of-00003.bin:   0%|          | 0.00/6.18G [00:00<?, ?B/s]"
            ]
          },
          "metadata": {},
          "output_type": "display_data"
        },
        {
          "data": {
            "application/vnd.jupyter.widget-view+json": {
              "model_id": "27968864a59849afbb2695cd3a189a61",
              "version_major": 2,
              "version_minor": 0
            },
            "text/plain": [
              "Loading checkpoint shards:   0%|          | 0/3 [00:00<?, ?it/s]"
            ]
          },
          "metadata": {},
          "output_type": "display_data"
        },
        {
          "data": {
            "application/vnd.jupyter.widget-view+json": {
              "model_id": "1259d11fb356470e89345cab98cd075d",
              "version_major": 2,
              "version_minor": 0
            },
            "text/plain": [
              "Downloading (…)neration_config.json:   0%|          | 0.00/137 [00:00<?, ?B/s]"
            ]
          },
          "metadata": {},
          "output_type": "display_data"
        },
        {
          "name": "stdout",
          "output_type": "stream",
          "text": [
            "CPU times: user 50.7 s, sys: 1min 35s, total: 2min 25s\n",
            "Wall time: 7min 45s\n"
          ]
        }
      ],
      "source": [
        "%%time\n",
        "\n",
        "tokenizer, model, max_len = get_model(model = CFG.model_name)"
      ]
    },
    {
      "cell_type": "markdown",
      "id": "1228de7c",
      "metadata": {
        "papermill": {
          "duration": 0.02882,
          "end_time": "2023-08-01T23:57:48.988202",
          "exception": false,
          "start_time": "2023-08-01T23:57:48.959382",
          "status": "completed"
        },
        "tags": [],
        "id": "1228de7c"
      },
      "source": [
        "# 🤗 pipeline\n",
        "\n",
        "- Hugging Face pipeline"
      ]
    },
    {
      "cell_type": "code",
      "execution_count": null,
      "id": "1c17ba2e",
      "metadata": {
        "execution": {
          "iopub.execute_input": "2023-08-01T23:57:49.048897Z",
          "iopub.status.busy": "2023-08-01T23:57:49.048204Z",
          "iopub.status.idle": "2023-08-01T23:57:50.000733Z",
          "shell.execute_reply": "2023-08-01T23:57:49.999655Z"
        },
        "papermill": {
          "duration": 0.986071,
          "end_time": "2023-08-01T23:57:50.003459",
          "exception": false,
          "start_time": "2023-08-01T23:57:49.017388",
          "status": "completed"
        },
        "tags": [],
        "id": "1c17ba2e"
      },
      "outputs": [],
      "source": [
        "pipe = pipeline(\n",
        "    task = \"text-generation\",\n",
        "    model = model,\n",
        "    tokenizer = tokenizer,\n",
        "    pad_token_id = tokenizer.eos_token_id,\n",
        "    max_length = max_len,\n",
        "    temperature = CFG.temperature,\n",
        "    top_p = CFG.top_p,\n",
        "    repetition_penalty = CFG.repetition_penalty\n",
        ")\n",
        "\n",
        "llm = HuggingFacePipeline(pipeline = pipe)"
      ]
    },
    {
      "cell_type": "code",
      "execution_count": null,
      "id": "6375a128",
      "metadata": {
        "execution": {
          "iopub.execute_input": "2023-08-01T23:57:50.062018Z",
          "iopub.status.busy": "2023-08-01T23:57:50.060335Z",
          "iopub.status.idle": "2023-08-01T23:57:50.067381Z",
          "shell.execute_reply": "2023-08-01T23:57:50.066395Z"
        },
        "papermill": {
          "duration": 0.038575,
          "end_time": "2023-08-01T23:57:50.070130",
          "exception": false,
          "start_time": "2023-08-01T23:57:50.031555",
          "status": "completed"
        },
        "tags": [],
        "id": "6375a128",
        "outputId": "d51b8cb8-ba07-4e21-cbf4-d3a05c41926b"
      },
      "outputs": [
        {
          "data": {
            "text/plain": [
              "HuggingFacePipeline(cache=None, verbose=False, callbacks=None, callback_manager=None, tags=None, metadata=None, pipeline=<transformers.pipelines.text_generation.TextGenerationPipeline object at 0x79a450382d70>, model_id='gpt2', model_kwargs=None, pipeline_kwargs=None)"
            ]
          },
          "execution_count": 9,
          "metadata": {},
          "output_type": "execute_result"
        }
      ],
      "source": [
        "llm"
      ]
    },
    {
      "cell_type": "code",
      "execution_count": null,
      "id": "3843b00b",
      "metadata": {
        "execution": {
          "iopub.execute_input": "2023-08-01T23:57:50.127303Z",
          "iopub.status.busy": "2023-08-01T23:57:50.126987Z",
          "iopub.status.idle": "2023-08-01T23:58:49.904311Z",
          "shell.execute_reply": "2023-08-01T23:58:49.903295Z"
        },
        "papermill": {
          "duration": 59.839778,
          "end_time": "2023-08-01T23:58:49.938075",
          "exception": false,
          "start_time": "2023-08-01T23:57:50.098297",
          "status": "completed"
        },
        "tags": [],
        "id": "3843b00b",
        "outputId": "ea504cdb-8735-43d5-8651-62935759546c"
      },
      "outputs": [
        {
          "data": {
            "text/plain": [
              "\".\\n\\nSure thing! Here are five examples of cool potions in the world of Dungeons & Dragons, along with a brief description of their effects:\\n\\n1. Potion of Healing: This potion restores hit points to the drinker, healing wounds and injuries sustained during combat or other physical activities. It's a staple of many adventurers' inventories, as it can be used to recover from dangerous battles or long journeys.\\n2. Potion of Invisibility: As its name suggests, this potion grants the drinker temporary invisibility, allowing them to move undetected and strike from unexpected angles. It's often used by rogues and assassins to slip past guards or gain an advantage in stealthy situations.\\n3. Potion of Speed: This potion increases the drinker's speed for a short period of time, allowing them to move faster and cover more ground than normal. It's useful for races like halflings and gnomes, who already have high movement speeds, but can also be helpful for other classes that rely on mobility.\\n4. Potion of Strength: This potion enhances the drinker's physical strength, giving them extra muscle power and endurance. It's popular among barbarians and fighters, who use it to boost their damage output and survive longer in intense battles.\\n5. Potion of Teleportation: This rare and powerful potion allows the drinker to instantly transport themselves to a different location, potentially avoiding danger or reaching distant areas quickly. However, it requires careful preparation and can only be used once per day, making it a valuable resource for experienced adventurers.\""
            ]
          },
          "execution_count": 10,
          "metadata": {},
          "output_type": "execute_result"
        }
      ],
      "source": [
        "### testing model, not using the harry potter books yet\n",
        "### answer is not necessarily related to harry potter\n",
        "query = \"Give me 5 examples of cool potions and explain what they do\"\n",
        "llm(query)"
      ]
    },
    {
      "cell_type": "markdown",
      "id": "be93ff7a",
      "metadata": {
        "papermill": {
          "duration": 0.030045,
          "end_time": "2023-08-01T23:58:49.998437",
          "exception": false,
          "start_time": "2023-08-01T23:58:49.968392",
          "status": "completed"
        },
        "tags": [],
        "id": "be93ff7a"
      },
      "source": [
        "# 🦜🔗 Langchain\n",
        "\n",
        "- Multiple document retriever with LangChain"
      ]
    },
    {
      "cell_type": "code",
      "execution_count": null,
      "id": "71ec6d59",
      "metadata": {
        "execution": {
          "iopub.execute_input": "2023-08-01T23:58:50.061181Z",
          "iopub.status.busy": "2023-08-01T23:58:50.060510Z",
          "iopub.status.idle": "2023-08-01T23:58:50.067871Z",
          "shell.execute_reply": "2023-08-01T23:58:50.066749Z"
        },
        "papermill": {
          "duration": 0.040258,
          "end_time": "2023-08-01T23:58:50.070154",
          "exception": false,
          "start_time": "2023-08-01T23:58:50.029896",
          "status": "completed"
        },
        "tags": [],
        "id": "71ec6d59",
        "outputId": "4a1a0230-9ebd-4fa5-ae0c-ef575fef7036"
      },
      "outputs": [
        {
          "data": {
            "text/plain": [
              "'llama2-13b'"
            ]
          },
          "execution_count": 11,
          "metadata": {},
          "output_type": "execute_result"
        }
      ],
      "source": [
        "CFG.model_name"
      ]
    },
    {
      "cell_type": "markdown",
      "id": "f1051c6f",
      "metadata": {
        "papermill": {
          "duration": 0.027547,
          "end_time": "2023-08-01T23:58:50.126246",
          "exception": false,
          "start_time": "2023-08-01T23:58:50.098699",
          "status": "completed"
        },
        "tags": [],
        "id": "f1051c6f"
      },
      "source": [
        "## Loader\n",
        "\n",
        "- [Directory loader](https://python.langchain.com/docs/modules/data_connection/document_loaders/file_directory) for multiple files\n",
        "- This step is not necessary if you are just loading the vector database\n",
        "- This step is necessary if you are creating embeddings. In this case you need to:\n",
        "    - load de PDF files\n",
        "    - split into chunks\n",
        "    - create embeddings\n",
        "    - save the embeddings in a vector store\n",
        "    - After that you can just load the saved embeddings to do similarity search with the user query, and then use the LLM to answer the question"
      ]
    },
    {
      "cell_type": "code",
      "execution_count": null,
      "id": "1eaa8da0",
      "metadata": {
        "execution": {
          "iopub.execute_input": "2023-08-01T23:58:50.183049Z",
          "iopub.status.busy": "2023-08-01T23:58:50.182186Z",
          "iopub.status.idle": "2023-08-02T00:00:59.704575Z",
          "shell.execute_reply": "2023-08-02T00:00:59.703620Z"
        },
        "papermill": {
          "duration": 129.554314,
          "end_time": "2023-08-02T00:00:59.708061",
          "exception": false,
          "start_time": "2023-08-01T23:58:50.153747",
          "status": "completed"
        },
        "tags": [],
        "id": "1eaa8da0",
        "outputId": "b67f7fb4-54c4-47f7-a395-faae41534d29"
      },
      "outputs": [
        {
          "name": "stderr",
          "output_type": "stream",
          "text": [
            "100%|██████████| 7/7 [02:09<00:00, 18.50s/it]"
          ]
        },
        {
          "name": "stdout",
          "output_type": "stream",
          "text": [
            "CPU times: user 2min 9s, sys: 1.26 s, total: 2min 10s\n",
            "Wall time: 2min 9s\n"
          ]
        },
        {
          "name": "stderr",
          "output_type": "stream",
          "text": [
            "\n"
          ]
        }
      ],
      "source": [
        "%%time\n",
        "\n",
        "loader = DirectoryLoader(CFG.PDFs_path,\n",
        "                         glob=\"./*.pdf\",\n",
        "                         loader_cls=PyPDFLoader,\n",
        "                         show_progress=True,\n",
        "                         use_multithreading=True)\n",
        "\n",
        "documents = loader.load()"
      ]
    },
    {
      "cell_type": "code",
      "execution_count": null,
      "id": "03258ad1",
      "metadata": {
        "execution": {
          "iopub.execute_input": "2023-08-02T00:00:59.766680Z",
          "iopub.status.busy": "2023-08-02T00:00:59.766298Z",
          "iopub.status.idle": "2023-08-02T00:00:59.772825Z",
          "shell.execute_reply": "2023-08-02T00:00:59.771633Z"
        },
        "papermill": {
          "duration": 0.037644,
          "end_time": "2023-08-02T00:00:59.774785",
          "exception": false,
          "start_time": "2023-08-02T00:00:59.737141",
          "status": "completed"
        },
        "tags": [],
        "id": "03258ad1",
        "outputId": "78746c6b-5d68-40e1-d6ef-50fb8ad78738"
      },
      "outputs": [
        {
          "data": {
            "text/plain": [
              "4114"
            ]
          },
          "execution_count": 13,
          "metadata": {},
          "output_type": "execute_result"
        }
      ],
      "source": [
        "len(documents)"
      ]
    },
    {
      "cell_type": "code",
      "execution_count": null,
      "id": "754426ae",
      "metadata": {
        "execution": {
          "iopub.execute_input": "2023-08-02T00:00:59.832518Z",
          "iopub.status.busy": "2023-08-02T00:00:59.832168Z",
          "iopub.status.idle": "2023-08-02T00:00:59.838056Z",
          "shell.execute_reply": "2023-08-02T00:00:59.837193Z"
        },
        "papermill": {
          "duration": 0.037142,
          "end_time": "2023-08-02T00:00:59.840102",
          "exception": false,
          "start_time": "2023-08-02T00:00:59.802960",
          "status": "completed"
        },
        "tags": [],
        "id": "754426ae",
        "outputId": "8251e644-8697-4147-fe2a-892d3a8909bf"
      },
      "outputs": [
        {
          "data": {
            "text/plain": [
              "\"8Ron\\nP.S. Percy's Head Boy. He got the letter last week.Harry glanced back at the photograph. Percy, who was in his seventh and\\nfinal year at Hogwarts, was looking particularly smug. He had pinned hisHead Boy badge to the fez perched jauntily on top of his neat hair, hishorn-rimmed glasses flashing in the Egyptian sun.\\nHarry now turned to his present and unwrapped it. Inside was what looked\\nlike a miniature glass spinning top. There was another note from Ronbeneath it.\\nHarry -- this is a Pocket Sneakoscope. If there's someone untrustworthy\\naround, it's supposed to light up and spin. Bill says it's rubbish soldfor wizard tourists and isn't reliable, because it kept lighting up atdinner last night. But he didn't realize Fred and George had put beetlesin his soup.\\nBye --RonHarry put the Pocket Sneakoscope on his bedside table, where it stood\\nquite still, balanced on its point, reflecting the luminous hands of hisclock. He looked at it happily for a few seconds, then picked up theparcel Hedwig had brought.\\nInside this, too, there was a wrapped present, a card, and a letter,\\nthis time from Hermione.\\nDear Harry,Ron wrote to me and told me about his phone call to your Uncle Vernon. I\\ndo hope you're all right.\\nI'm on holiday in France at the moment and I didn't know how I was going\\nto send this to you -- what if they'd opened it at customs? -- but thenHedwig turned up! I think she wanted to make sure you got something for\""
            ]
          },
          "execution_count": 14,
          "metadata": {},
          "output_type": "execute_result"
        }
      ],
      "source": [
        "documents[8].page_content"
      ]
    },
    {
      "cell_type": "markdown",
      "id": "5e684ed9",
      "metadata": {
        "papermill": {
          "duration": 0.028012,
          "end_time": "2023-08-02T00:00:59.896107",
          "exception": false,
          "start_time": "2023-08-02T00:00:59.868095",
          "status": "completed"
        },
        "tags": [],
        "id": "5e684ed9"
      },
      "source": [
        "## Splitter\n",
        "\n",
        "- Splitting the text into chunks so its passages are easily searchable for similarity\n",
        "- This step is also only necessary if you are creating the embeddings\n",
        "- [RecursiveCharacterTextSplitter](https://python.langchain.com/en/latest/reference/modules/document_loaders.html?highlight=RecursiveCharacterTextSplitter#langchain.document_loaders.MWDumpLoader)"
      ]
    },
    {
      "cell_type": "code",
      "execution_count": null,
      "id": "1509d97b",
      "metadata": {
        "execution": {
          "iopub.execute_input": "2023-08-02T00:00:59.953086Z",
          "iopub.status.busy": "2023-08-02T00:00:59.952758Z",
          "iopub.status.idle": "2023-08-02T00:01:00.476670Z",
          "shell.execute_reply": "2023-08-02T00:01:00.475584Z"
        },
        "papermill": {
          "duration": 0.555291,
          "end_time": "2023-08-02T00:01:00.479203",
          "exception": false,
          "start_time": "2023-08-02T00:00:59.923912",
          "status": "completed"
        },
        "tags": [],
        "id": "1509d97b",
        "outputId": "a202bf0f-631f-45de-b8d7-0a867d42e635"
      },
      "outputs": [
        {
          "data": {
            "text/plain": [
              "10519"
            ]
          },
          "execution_count": 15,
          "metadata": {},
          "output_type": "execute_result"
        }
      ],
      "source": [
        "text_splitter = RecursiveCharacterTextSplitter(chunk_size = CFG.split_chunk_size,\n",
        "                                               chunk_overlap = CFG.split_overlap)\n",
        "\n",
        "texts = text_splitter.split_documents(documents)\n",
        "len(texts)"
      ]
    },
    {
      "cell_type": "markdown",
      "id": "d1ad631b",
      "metadata": {
        "papermill": {
          "duration": 0.028545,
          "end_time": "2023-08-02T00:01:00.537287",
          "exception": false,
          "start_time": "2023-08-02T00:01:00.508742",
          "status": "completed"
        },
        "tags": [],
        "id": "d1ad631b"
      },
      "source": [
        "## Embeddings\n",
        "\n",
        "- Embedd and store the texts in a Vector database (ChromaDB or FAISS)\n",
        "- [LangChain Vector Stores docs](https://python.langchain.com/docs/modules/data_connection/vectorstores/)\n",
        "- [One Embedder, Any Task: Instruction-Finetuned Text Embeddings - paper Dec/2022](https://arxiv.org/pdf/2212.09741.pdf)\n",
        "- [This is a nice 4 minutes video about vector stores](https://www.youtube.com/watch?v=dN0lsF2cvm4)\n",
        "- [Persist and load the vector database](https://python.langchain.com/en/latest/modules/indexes/vectorstores/examples/chroma.html)\n",
        "\n",
        "On this Harry Potter dataset, this embeddings creation and storage takes about ~35 minutes to complete with this embeddings function, configuration and compute power.\n",
        "\n",
        "We need to create the embeddings only once, and then we can just load the vector store and query the database using similarity search.\n",
        "\n",
        "Loading the embeddings takes only a few seconds.\n",
        "\n",
        "I uploaded the embeddings to a Kaggle Dataset so we just load it from [here](https://www.kaggle.com/datasets/hinepo/hp-embeddings-instructor-base-800-0)."
      ]
    },
    {
      "cell_type": "markdown",
      "id": "0439557a",
      "metadata": {
        "papermill": {
          "duration": 0.028092,
          "end_time": "2023-08-02T00:01:00.593224",
          "exception": false,
          "start_time": "2023-08-02T00:01:00.565132",
          "status": "completed"
        },
        "tags": [],
        "id": "0439557a"
      },
      "source": [
        "## Create vector database"
      ]
    },
    {
      "cell_type": "code",
      "execution_count": null,
      "id": "bb104955",
      "metadata": {
        "execution": {
          "iopub.execute_input": "2023-08-02T00:01:00.654807Z",
          "iopub.status.busy": "2023-08-02T00:01:00.654130Z",
          "iopub.status.idle": "2023-08-02T00:01:00.659773Z",
          "shell.execute_reply": "2023-08-02T00:01:00.658740Z"
        },
        "papermill": {
          "duration": 0.040224,
          "end_time": "2023-08-02T00:01:00.661914",
          "exception": false,
          "start_time": "2023-08-02T00:01:00.621690",
          "status": "completed"
        },
        "tags": [],
        "id": "bb104955"
      },
      "outputs": [],
      "source": [
        "# %%time\n",
        "\n",
        "# ### download embeddings model\n",
        "# instructor_embeddings = HuggingFaceInstructEmbeddings(model_name = CFG.embeddings_model_repo,\n",
        "#                                                       model_kwargs = {\"device\": \"cuda\"})\n",
        "\n",
        "# ### create embeddings and DB\n",
        "# vectordb = Chroma.from_documents(documents = texts,\n",
        "#                                  embedding = instructor_embeddings,\n",
        "#                                  persist_directory = CFG.Persist_directory,\n",
        "#                                  collection_name = 'hp_books')\n",
        "\n",
        "# # vectordb.add_documents(documents=texts, embedding=instructor_embeddings)\n",
        "\n",
        "# ### persist Chroma vector database\n",
        "# vectordb.persist()"
      ]
    },
    {
      "cell_type": "markdown",
      "id": "8e0275f2",
      "metadata": {
        "papermill": {
          "duration": 0.027758,
          "end_time": "2023-08-02T00:01:00.718259",
          "exception": false,
          "start_time": "2023-08-02T00:01:00.690501",
          "status": "completed"
        },
        "tags": [],
        "id": "8e0275f2"
      },
      "source": [
        "## Load vector database\n",
        "\n",
        "- After persisting the vector database, we just load it from the Kaggle Dataset I mentioned\n",
        "- Obviously, the embeddings function to load the embeddings must be the same as the one used to create the embeddings\n",
        "- After some experimentation I found out that there is a compatibility issue between Kaggle Public Datasets and Chroma. Loading the stored vector database as a Public Dataset does not work. It only works if the Dataset is Private. So you can either:\n",
        "    - Create your own embeddings, save your vector store and then load it; or\n",
        "    - Download the embeddings I've already created, upload them to your kaggle account (keeping it as a Private dataset), and load them in this notebook. This will work.\n",
        "    - This compatibility issue does not happen in Google Colab."
      ]
    },
    {
      "cell_type": "code",
      "execution_count": null,
      "id": "08c7f8ba",
      "metadata": {
        "execution": {
          "iopub.execute_input": "2023-08-02T00:01:00.776499Z",
          "iopub.status.busy": "2023-08-02T00:01:00.775626Z",
          "iopub.status.idle": "2023-08-02T00:01:10.886805Z",
          "shell.execute_reply": "2023-08-02T00:01:10.885828Z"
        },
        "papermill": {
          "duration": 10.142729,
          "end_time": "2023-08-02T00:01:10.889012",
          "exception": false,
          "start_time": "2023-08-02T00:01:00.746283",
          "status": "completed"
        },
        "tags": [],
        "id": "08c7f8ba",
        "outputId": "bbbcb650-84e0-4f0b-8e12-f1796da59850",
        "colab": {
          "referenced_widgets": [
            "21391929e73e4922948e4d195d901681",
            "c5f02b0cb85c49c2b04c75eaf01abb53",
            "3ab23c5269a84eac920df916e0cc7214",
            "45688d4a95654b1894a0ba5509168f43",
            "2f5191c8a26944e3ae421f9a5036b411",
            "16900f8b1cd64780a9a924da24d62a5f",
            "51204289aa244069927a9b44d370ea61",
            "d10f357e8d044615b2cbfa6002bd10f6",
            "3ff3445eb63e4899950de6893c78a4ad",
            "8fb7ae3e6dbf48c9b74f07f953af757b",
            "0da297f1a4b647e09a78c2cb5aaee819",
            "f7e691b6de03495b9b0dc5b3c9cb9d45",
            "aef2912ba7dd4392abd89636dce9f8b7",
            "4540ccfe96b74a36a0589cbba357c365"
          ]
        }
      },
      "outputs": [
        {
          "data": {
            "application/vnd.jupyter.widget-view+json": {
              "model_id": "21391929e73e4922948e4d195d901681",
              "version_major": 2,
              "version_minor": 0
            },
            "text/plain": [
              "Downloading (…)62736/.gitattributes:   0%|          | 0.00/1.48k [00:00<?, ?B/s]"
            ]
          },
          "metadata": {},
          "output_type": "display_data"
        },
        {
          "data": {
            "application/vnd.jupyter.widget-view+json": {
              "model_id": "c5f02b0cb85c49c2b04c75eaf01abb53",
              "version_major": 2,
              "version_minor": 0
            },
            "text/plain": [
              "Downloading (…)_Pooling/config.json:   0%|          | 0.00/270 [00:00<?, ?B/s]"
            ]
          },
          "metadata": {},
          "output_type": "display_data"
        },
        {
          "data": {
            "application/vnd.jupyter.widget-view+json": {
              "model_id": "3ab23c5269a84eac920df916e0cc7214",
              "version_major": 2,
              "version_minor": 0
            },
            "text/plain": [
              "Downloading (…)/2_Dense/config.json:   0%|          | 0.00/115 [00:00<?, ?B/s]"
            ]
          },
          "metadata": {},
          "output_type": "display_data"
        },
        {
          "data": {
            "application/vnd.jupyter.widget-view+json": {
              "model_id": "45688d4a95654b1894a0ba5509168f43",
              "version_major": 2,
              "version_minor": 0
            },
            "text/plain": [
              "Downloading pytorch_model.bin:   0%|          | 0.00/2.36M [00:00<?, ?B/s]"
            ]
          },
          "metadata": {},
          "output_type": "display_data"
        },
        {
          "data": {
            "application/vnd.jupyter.widget-view+json": {
              "model_id": "2f5191c8a26944e3ae421f9a5036b411",
              "version_major": 2,
              "version_minor": 0
            },
            "text/plain": [
              "Downloading (…)15e6562736/README.md:   0%|          | 0.00/66.2k [00:00<?, ?B/s]"
            ]
          },
          "metadata": {},
          "output_type": "display_data"
        },
        {
          "data": {
            "application/vnd.jupyter.widget-view+json": {
              "model_id": "16900f8b1cd64780a9a924da24d62a5f",
              "version_major": 2,
              "version_minor": 0
            },
            "text/plain": [
              "Downloading (…)e6562736/config.json:   0%|          | 0.00/1.55k [00:00<?, ?B/s]"
            ]
          },
          "metadata": {},
          "output_type": "display_data"
        },
        {
          "data": {
            "application/vnd.jupyter.widget-view+json": {
              "model_id": "51204289aa244069927a9b44d370ea61",
              "version_major": 2,
              "version_minor": 0
            },
            "text/plain": [
              "Downloading (…)ce_transformers.json:   0%|          | 0.00/122 [00:00<?, ?B/s]"
            ]
          },
          "metadata": {},
          "output_type": "display_data"
        },
        {
          "data": {
            "application/vnd.jupyter.widget-view+json": {
              "model_id": "d10f357e8d044615b2cbfa6002bd10f6",
              "version_major": 2,
              "version_minor": 0
            },
            "text/plain": [
              "Downloading pytorch_model.bin:   0%|          | 0.00/439M [00:00<?, ?B/s]"
            ]
          },
          "metadata": {},
          "output_type": "display_data"
        },
        {
          "data": {
            "application/vnd.jupyter.widget-view+json": {
              "model_id": "3ff3445eb63e4899950de6893c78a4ad",
              "version_major": 2,
              "version_minor": 0
            },
            "text/plain": [
              "Downloading (…)nce_bert_config.json:   0%|          | 0.00/53.0 [00:00<?, ?B/s]"
            ]
          },
          "metadata": {},
          "output_type": "display_data"
        },
        {
          "data": {
            "application/vnd.jupyter.widget-view+json": {
              "model_id": "8fb7ae3e6dbf48c9b74f07f953af757b",
              "version_major": 2,
              "version_minor": 0
            },
            "text/plain": [
              "Downloading (…)cial_tokens_map.json:   0%|          | 0.00/2.20k [00:00<?, ?B/s]"
            ]
          },
          "metadata": {},
          "output_type": "display_data"
        },
        {
          "data": {
            "application/vnd.jupyter.widget-view+json": {
              "model_id": "0da297f1a4b647e09a78c2cb5aaee819",
              "version_major": 2,
              "version_minor": 0
            },
            "text/plain": [
              "Downloading spiece.model:   0%|          | 0.00/792k [00:00<?, ?B/s]"
            ]
          },
          "metadata": {},
          "output_type": "display_data"
        },
        {
          "data": {
            "application/vnd.jupyter.widget-view+json": {
              "model_id": "f7e691b6de03495b9b0dc5b3c9cb9d45",
              "version_major": 2,
              "version_minor": 0
            },
            "text/plain": [
              "Downloading (…)62736/tokenizer.json:   0%|          | 0.00/2.42M [00:00<?, ?B/s]"
            ]
          },
          "metadata": {},
          "output_type": "display_data"
        },
        {
          "data": {
            "application/vnd.jupyter.widget-view+json": {
              "model_id": "aef2912ba7dd4392abd89636dce9f8b7",
              "version_major": 2,
              "version_minor": 0
            },
            "text/plain": [
              "Downloading (…)okenizer_config.json:   0%|          | 0.00/2.43k [00:00<?, ?B/s]"
            ]
          },
          "metadata": {},
          "output_type": "display_data"
        },
        {
          "data": {
            "application/vnd.jupyter.widget-view+json": {
              "model_id": "4540ccfe96b74a36a0589cbba357c365",
              "version_major": 2,
              "version_minor": 0
            },
            "text/plain": [
              "Downloading (…)6562736/modules.json:   0%|          | 0.00/461 [00:00<?, ?B/s]"
            ]
          },
          "metadata": {},
          "output_type": "display_data"
        },
        {
          "name": "stdout",
          "output_type": "stream",
          "text": [
            "load INSTRUCTOR_Transformer\n",
            "max_seq_length  512\n",
            "CPU times: user 2.81 s, sys: 1.42 s, total: 4.23 s\n",
            "Wall time: 10.1 s\n"
          ]
        }
      ],
      "source": [
        "%%time\n",
        "\n",
        "### download embeddings model\n",
        "instructor_embeddings = HuggingFaceInstructEmbeddings(model_name = CFG.embeddings_model_repo,\n",
        "                                                      model_kwargs = {\"device\": \"cuda\"})\n",
        "\n",
        "vectordb = Chroma(persist_directory = CFG.Embeddings_path,\n",
        "                  embedding_function = instructor_embeddings,\n",
        "                  collection_name = 'hp_books')"
      ]
    },
    {
      "cell_type": "code",
      "execution_count": null,
      "id": "c228317b",
      "metadata": {
        "execution": {
          "iopub.execute_input": "2023-08-02T00:01:10.956219Z",
          "iopub.status.busy": "2023-08-02T00:01:10.955217Z",
          "iopub.status.idle": "2023-08-02T00:01:11.388712Z",
          "shell.execute_reply": "2023-08-02T00:01:11.387715Z"
        },
        "papermill": {
          "duration": 0.46956,
          "end_time": "2023-08-02T00:01:11.390817",
          "exception": false,
          "start_time": "2023-08-02T00:01:10.921257",
          "status": "completed"
        },
        "tags": [],
        "id": "c228317b",
        "outputId": "9d4d4fe2-b12e-4e96-b7c9-dec6ec6d450d"
      },
      "outputs": [
        {
          "name": "stdout",
          "output_type": "stream",
          "text": [
            "10519\n"
          ]
        }
      ],
      "source": [
        "### how many documents were loaded\n",
        "print(vectordb._collection.count())"
      ]
    },
    {
      "cell_type": "markdown",
      "id": "70d3a68f",
      "metadata": {
        "papermill": {
          "duration": 0.040284,
          "end_time": "2023-08-02T00:01:11.463266",
          "exception": false,
          "start_time": "2023-08-02T00:01:11.422982",
          "status": "completed"
        },
        "tags": [],
        "id": "70d3a68f"
      },
      "source": [
        "# Prompt Template\n",
        "\n",
        "- Custom prompt"
      ]
    },
    {
      "cell_type": "code",
      "execution_count": null,
      "id": "73761306",
      "metadata": {
        "execution": {
          "iopub.execute_input": "2023-08-02T00:01:11.528521Z",
          "iopub.status.busy": "2023-08-02T00:01:11.528138Z",
          "iopub.status.idle": "2023-08-02T00:01:11.533693Z",
          "shell.execute_reply": "2023-08-02T00:01:11.532603Z"
        },
        "papermill": {
          "duration": 0.040694,
          "end_time": "2023-08-02T00:01:11.535982",
          "exception": false,
          "start_time": "2023-08-02T00:01:11.495288",
          "status": "completed"
        },
        "tags": [],
        "id": "73761306"
      },
      "outputs": [],
      "source": [
        "prompt_template = \"\"\"\n",
        "Don't try to make up an answer, if you don't know just say that you don't know.\n",
        "Answer in the same language the question was asked.\n",
        "Use only the following pieces of context to answer the question at the end.\n",
        "\n",
        "{context}\n",
        "\n",
        "Question: {question}\n",
        "Answer:\"\"\"\n",
        "\n",
        "\n",
        "PROMPT = PromptTemplate(\n",
        "    template=prompt_template,\n",
        "    input_variables=[\"context\", \"question\"]\n",
        ")"
      ]
    },
    {
      "cell_type": "code",
      "execution_count": null,
      "id": "304c172e",
      "metadata": {
        "execution": {
          "iopub.execute_input": "2023-08-02T00:01:11.599459Z",
          "iopub.status.busy": "2023-08-02T00:01:11.599094Z",
          "iopub.status.idle": "2023-08-02T00:01:11.603276Z",
          "shell.execute_reply": "2023-08-02T00:01:11.602420Z"
        },
        "papermill": {
          "duration": 0.038155,
          "end_time": "2023-08-02T00:01:11.605194",
          "exception": false,
          "start_time": "2023-08-02T00:01:11.567039",
          "status": "completed"
        },
        "tags": [],
        "id": "304c172e"
      },
      "outputs": [],
      "source": [
        "# llm_chain = LLMChain(prompt=PROMPT,\n",
        "#                      llm=llm)\n",
        "# llm_chain"
      ]
    },
    {
      "cell_type": "markdown",
      "id": "23f02a64",
      "metadata": {
        "papermill": {
          "duration": 0.032527,
          "end_time": "2023-08-02T00:01:11.677663",
          "exception": false,
          "start_time": "2023-08-02T00:01:11.645136",
          "status": "completed"
        },
        "tags": [],
        "id": "23f02a64"
      },
      "source": [
        "# Retriever chain\n",
        "\n",
        "- Retriever to retrieve relevant passages\n",
        "- Chain to answer questions\n",
        "- [RetrievalQA: Chain for question-answering](https://python.langchain.com/docs/modules/data_connection/retrievers/)"
      ]
    },
    {
      "cell_type": "code",
      "execution_count": null,
      "id": "4695c975",
      "metadata": {
        "execution": {
          "iopub.execute_input": "2023-08-02T00:01:11.745286Z",
          "iopub.status.busy": "2023-08-02T00:01:11.744254Z",
          "iopub.status.idle": "2023-08-02T00:01:11.751718Z",
          "shell.execute_reply": "2023-08-02T00:01:11.750764Z"
        },
        "papermill": {
          "duration": 0.041861,
          "end_time": "2023-08-02T00:01:11.753758",
          "exception": false,
          "start_time": "2023-08-02T00:01:11.711897",
          "status": "completed"
        },
        "tags": [],
        "id": "4695c975"
      },
      "outputs": [],
      "source": [
        "retriever = vectordb.as_retriever(search_kwargs = {\"k\": CFG.k, \"search_type\" : \"similarity\"})\n",
        "\n",
        "qa_chain = RetrievalQA.from_chain_type(llm = llm,\n",
        "                                       chain_type = \"stuff\", # map_reduce, map_rerank, stuff, refine\n",
        "                                       retriever = retriever,\n",
        "                                       chain_type_kwargs = {\"prompt\": PROMPT},\n",
        "                                       return_source_documents = True,\n",
        "                                       verbose = False)"
      ]
    },
    {
      "cell_type": "code",
      "execution_count": null,
      "id": "63357745",
      "metadata": {
        "execution": {
          "iopub.execute_input": "2023-08-02T00:01:11.842975Z",
          "iopub.status.busy": "2023-08-02T00:01:11.842547Z",
          "iopub.status.idle": "2023-08-02T00:01:13.051879Z",
          "shell.execute_reply": "2023-08-02T00:01:13.049184Z"
        },
        "papermill": {
          "duration": 1.270945,
          "end_time": "2023-08-02T00:01:13.056030",
          "exception": false,
          "start_time": "2023-08-02T00:01:11.785085",
          "status": "completed"
        },
        "tags": [],
        "id": "63357745",
        "outputId": "6f7fa604-256b-43e1-9274-6826e0d6ab22"
      },
      "outputs": [
        {
          "data": {
            "text/plain": [
              "[Document(page_content='“Well,\\tso\\tthey\\tsay,”\\tsaid\\tHagrid.\\t“Crikey,\\tI’d\\tlike\\ta\\tdragon.”', metadata={'page': 49, 'source': '/kaggle/input/harry-potter-books-in-pdf-1-7/HP books/Harry Potter - Book 1 - The Sorcerers Stone.pdf'}),\n",
              " Document(page_content='CHAPTER  TWENTY-EIGHT \\n\\x91 544 \\x91 “Can you buy these as pets, Hagrid?” he asked excitedly as his \\nniffler dived back into the soil, splattering his robes. \\n“Yer mum wouldn’ be happy, Ro n,” said Hagrid, grinning. \\n“They wreck houses, nifflers. I re ckon they’ve nearly got the lot, \\nnow,” he added, pacing around the patch of earth while the nifflers \\ncontinued to dive. “I on’y buried a hundred coins. Oh there y’are, \\nHermione!” \\nHermione was walking toward th em across the lawn. Her hands \\nwere very heavily bandaged an d she looked miserable. Pansy \\nParkinson was watc hing her beadily. \\n“Well, let’s check how yeh’ve done!” said Hagrid. “Count yer \\ncoins! An’ there’s no point tryin’ te r steal any, Goyle,” he added, his \\nbeetle-black eyes narrowed. “It’s leprechaun gold. Vanishes after a', metadata={'page': 559, 'source': '/kaggle/input/harry-potter-books-in-pdf-1-7/HP books/Harry Potter - Book 4 - The Goblet of Fire.pdf'}),\n",
              " Document(page_content='93He untied one of the chains, pulled the gray hippogriff away from its\\nfellows, and slipped off its leather collar. The class on the other sideof the paddock seemed to be holding its breath. Malfoy\\'s eyes werenarrowed maliciously.\\n\"Easy) now, Harry,\" said Hagrid quietly. \"Yeh\\'ve got eye contact, now\\ntry not ter blink.... Hippogriffs don\\' trust yeh if yeh blink toomuch....\"\\nHarry\\'s eyes immediately began to water, but he didn\\'t shut thern.\\nBuckbeak had turned his great, sharp head and was staring at Harry withone fierce orange eye. \"Tha\\'s it,\" said Hagrid. \"Tha\\'s it, Harry... now,bow.\"\\nHarry didn\\'t feel much like exposing the back of his neck to Buckbeak,\\nbut he did as he was told. He gave a short bow and then looked up.', metadata={'page': 93, 'source': '/kaggle/input/harry-potter-books-in-pdf-1-7/HP books/Harry Potter - Book 3 - The Prisoner of Azkaban.pdf'})]"
            ]
          },
          "execution_count": 22,
          "metadata": {},
          "output_type": "execute_result"
        }
      ],
      "source": [
        "### testing MMR search\n",
        "question = \"Which are Hagrid's favorite animals?\"\n",
        "vectordb.max_marginal_relevance_search(question, k = CFG.k)"
      ]
    },
    {
      "cell_type": "code",
      "execution_count": null,
      "id": "4140c055",
      "metadata": {
        "execution": {
          "iopub.execute_input": "2023-08-02T00:01:13.179117Z",
          "iopub.status.busy": "2023-08-02T00:01:13.178745Z",
          "iopub.status.idle": "2023-08-02T00:01:13.213578Z",
          "shell.execute_reply": "2023-08-02T00:01:13.212313Z"
        },
        "papermill": {
          "duration": 0.092871,
          "end_time": "2023-08-02T00:01:13.216118",
          "exception": false,
          "start_time": "2023-08-02T00:01:13.123247",
          "status": "completed"
        },
        "tags": [],
        "id": "4140c055",
        "outputId": "9a3a4179-24e3-4053-b505-903d27eadab9"
      },
      "outputs": [
        {
          "data": {
            "text/plain": [
              "[Document(page_content='CHAPTER  THIRTEEN \\n\\x91 198 \\x91 nothing better than a pet drag on, as Harry, Ron, and Hermione \\nknew only too well — he had owned one for a brief period during \\ntheir first year, a vicious Norweg ian Ridgeback by the name of \\nNorbert. Hagrid simply loved monstrous creatures, the more \\nlethal, the better. \\n“Well, at least the skrewts are sma ll,” said Ron as they made their \\nway back up to the castle for lunch an hour later. \\n“They are now, ” said Hermione in an exasperated voice, “but \\nonce Hagrid’s found out what they eat, I expect they’ll be six feet \\nlong.” \\n“Well, that won’t matter if they turn out to cure seasickness or \\nsomething, will it?” said Ro n, grinning slyly at her. \\n“You know perfectly we ll I only said that to shut Malfoy up,”', metadata={'page': 213, 'source': '/kaggle/input/harry-potter-books-in-pdf-1-7/HP books/Harry Potter - Book 4 - The Goblet of Fire.pdf'}),\n",
              " Document(page_content='CHAPTER  TWENTY-EIGHT \\n\\x91 544 \\x91 “Can you buy these as pets, Hagrid?” he asked excitedly as his \\nniffler dived back into the soil, splattering his robes. \\n“Yer mum wouldn’ be happy, Ro n,” said Hagrid, grinning. \\n“They wreck houses, nifflers. I re ckon they’ve nearly got the lot, \\nnow,” he added, pacing around the patch of earth while the nifflers \\ncontinued to dive. “I on’y buried a hundred coins. Oh there y’are, \\nHermione!” \\nHermione was walking toward th em across the lawn. Her hands \\nwere very heavily bandaged an d she looked miserable. Pansy \\nParkinson was watc hing her beadily. \\n“Well, let’s check how yeh’ve done!” said Hagrid. “Count yer \\ncoins! An’ there’s no point tryin’ te r steal any, Goyle,” he added, his \\nbeetle-black eyes narrowed. “It’s leprechaun gold. Vanishes after a', metadata={'page': 559, 'source': '/kaggle/input/harry-potter-books-in-pdf-1-7/HP books/Harry Potter - Book 4 - The Goblet of Fire.pdf'}),\n",
              " Document(page_content='“ E u r g h ! ”  s a i d  L a v e n d e r  B r o w n  again. “Eurgh, Hagrid, what’s \\nthat pointy thing on it?” \\n“Ah, some of ’em have got stings ,” said Hagrid enthusiastically \\n(Lavender quickly withdrew her hand from the box). “I reckon \\nthey’re the males. . . . The females’ve got sorta sucker things on \\ntheir bellies. . . . I think they might be ter suck blood.” \\n“Well, I can certainly see why we’r e trying to keep them alive,” \\nsaid Malfoy sarcastically. “Who wouldn’t want pets that can burn, \\nsting, and bite all at once?” \\n“Just because they’re not very pret ty, it doesn’t mean they’re not \\nuseful,” Hermione snapped. “Dra gon blood’s amazingly magical, \\nbut you wouldn’t want a dragon for a pet, would you?” \\nHarry and Ron grinned at Hagr id, who gave them a furtive', metadata={'page': 212, 'source': '/kaggle/input/harry-potter-books-in-pdf-1-7/HP books/Harry Potter - Book 4 - The Goblet of Fire.pdf'})]"
            ]
          },
          "execution_count": 23,
          "metadata": {},
          "output_type": "execute_result"
        }
      ],
      "source": [
        "### testing similarity search\n",
        "question = \"Which are Hagrid's favorite animals?\"\n",
        "vectordb.similarity_search(question, k = CFG.k)"
      ]
    },
    {
      "cell_type": "markdown",
      "id": "e932eebd",
      "metadata": {
        "papermill": {
          "duration": 0.032121,
          "end_time": "2023-08-02T00:01:13.280940",
          "exception": false,
          "start_time": "2023-08-02T00:01:13.248819",
          "status": "completed"
        },
        "tags": [],
        "id": "e932eebd"
      },
      "source": [
        "## Post-process outputs\n",
        "\n",
        "- Format llm response\n",
        "- Cite sources (PDFs)"
      ]
    },
    {
      "cell_type": "code",
      "execution_count": null,
      "id": "9dd4d0c8",
      "metadata": {
        "execution": {
          "iopub.execute_input": "2023-08-02T00:01:13.344165Z",
          "iopub.status.busy": "2023-08-02T00:01:13.343814Z",
          "iopub.status.idle": "2023-08-02T00:01:13.350860Z",
          "shell.execute_reply": "2023-08-02T00:01:13.349900Z"
        },
        "papermill": {
          "duration": 0.041066,
          "end_time": "2023-08-02T00:01:13.352879",
          "exception": false,
          "start_time": "2023-08-02T00:01:13.311813",
          "status": "completed"
        },
        "tags": [],
        "id": "9dd4d0c8"
      },
      "outputs": [],
      "source": [
        "def wrap_text_preserve_newlines(text, width=200): # 110\n",
        "    # Split the input text into lines based on newline characters\n",
        "    lines = text.split('\\n')\n",
        "\n",
        "    # Wrap each line individually\n",
        "    wrapped_lines = [textwrap.fill(line, width=width) for line in lines]\n",
        "\n",
        "    # Join the wrapped lines back together using newline characters\n",
        "    wrapped_text = '\\n'.join(wrapped_lines)\n",
        "\n",
        "    return wrapped_text\n",
        "\n",
        "def process_llm_response(llm_response):\n",
        "    ans = wrap_text_preserve_newlines(llm_response['result'])\n",
        "    sources_used = ' \\n'.join([str(source.metadata['source']) for source in llm_response['source_documents']])\n",
        "    ans = ans + '\\n\\nSources: \\n' + sources_used\n",
        "    return ans"
      ]
    },
    {
      "cell_type": "code",
      "execution_count": null,
      "id": "83362078",
      "metadata": {
        "execution": {
          "iopub.execute_input": "2023-08-02T00:01:13.417875Z",
          "iopub.status.busy": "2023-08-02T00:01:13.417039Z",
          "iopub.status.idle": "2023-08-02T00:01:13.423653Z",
          "shell.execute_reply": "2023-08-02T00:01:13.422750Z"
        },
        "papermill": {
          "duration": 0.041433,
          "end_time": "2023-08-02T00:01:13.425677",
          "exception": false,
          "start_time": "2023-08-02T00:01:13.384244",
          "status": "completed"
        },
        "tags": [],
        "id": "83362078"
      },
      "outputs": [],
      "source": [
        "def llm_ans(query):\n",
        "    start = time.time()\n",
        "    llm_response = qa_chain(query)\n",
        "    ans = process_llm_response(llm_response)\n",
        "    end = time.time()\n",
        "\n",
        "    time_elapsed = int(round(end - start, 0))\n",
        "    time_elapsed_str = f'\\n\\nTime elapsed: {time_elapsed} s'\n",
        "    return ans + time_elapsed_str"
      ]
    },
    {
      "cell_type": "markdown",
      "id": "df4ad97e",
      "metadata": {
        "papermill": {
          "duration": 0.030444,
          "end_time": "2023-08-02T00:01:13.487407",
          "exception": false,
          "start_time": "2023-08-02T00:01:13.456963",
          "status": "completed"
        },
        "tags": [],
        "id": "df4ad97e"
      },
      "source": [
        "# Ask questions\n",
        "\n",
        "- Question Answering from multiple documents\n",
        "- Run QA Chain\n",
        "- Talk to your data"
      ]
    },
    {
      "cell_type": "code",
      "execution_count": null,
      "id": "c4d1e150",
      "metadata": {
        "execution": {
          "iopub.execute_input": "2023-08-02T00:01:13.550454Z",
          "iopub.status.busy": "2023-08-02T00:01:13.549550Z",
          "iopub.status.idle": "2023-08-02T00:01:13.556163Z",
          "shell.execute_reply": "2023-08-02T00:01:13.555122Z"
        },
        "papermill": {
          "duration": 0.040865,
          "end_time": "2023-08-02T00:01:13.558568",
          "exception": false,
          "start_time": "2023-08-02T00:01:13.517703",
          "status": "completed"
        },
        "tags": [],
        "id": "c4d1e150",
        "outputId": "ec923130-4ef3-4c06-e49b-871183eb6652"
      },
      "outputs": [
        {
          "data": {
            "text/plain": [
              "'llama2-13b'"
            ]
          },
          "execution_count": 26,
          "metadata": {},
          "output_type": "execute_result"
        }
      ],
      "source": [
        "CFG.model_name"
      ]
    },
    {
      "cell_type": "code",
      "execution_count": null,
      "id": "63326ad1",
      "metadata": {
        "execution": {
          "iopub.execute_input": "2023-08-02T00:01:13.622790Z",
          "iopub.status.busy": "2023-08-02T00:01:13.622494Z",
          "iopub.status.idle": "2023-08-02T00:01:13.632687Z",
          "shell.execute_reply": "2023-08-02T00:01:13.631646Z"
        },
        "papermill": {
          "duration": 0.04579,
          "end_time": "2023-08-02T00:01:13.635604",
          "exception": false,
          "start_time": "2023-08-02T00:01:13.589814",
          "status": "completed"
        },
        "tags": [],
        "id": "63326ad1",
        "outputId": "3f5844c4-e553-4fc5-8c80-ef7fa631365a"
      },
      "outputs": [
        {
          "data": {
            "text/plain": [
              "LlamaForCausalLM(\n",
              "  (model): LlamaModel(\n",
              "    (embed_tokens): Embedding(32000, 5120, padding_idx=0)\n",
              "    (layers): ModuleList(\n",
              "      (0-39): 40 x LlamaDecoderLayer(\n",
              "        (self_attn): LlamaAttention(\n",
              "          (q_proj): Linear4bit(in_features=5120, out_features=5120, bias=False)\n",
              "          (k_proj): Linear4bit(in_features=5120, out_features=5120, bias=False)\n",
              "          (v_proj): Linear4bit(in_features=5120, out_features=5120, bias=False)\n",
              "          (o_proj): Linear4bit(in_features=5120, out_features=5120, bias=False)\n",
              "          (rotary_emb): LlamaRotaryEmbedding()\n",
              "        )\n",
              "        (mlp): LlamaMLP(\n",
              "          (gate_proj): Linear4bit(in_features=5120, out_features=13824, bias=False)\n",
              "          (up_proj): Linear4bit(in_features=5120, out_features=13824, bias=False)\n",
              "          (down_proj): Linear4bit(in_features=13824, out_features=5120, bias=False)\n",
              "          (act_fn): SiLUActivation()\n",
              "        )\n",
              "        (input_layernorm): LlamaRMSNorm()\n",
              "        (post_attention_layernorm): LlamaRMSNorm()\n",
              "      )\n",
              "    )\n",
              "    (norm): LlamaRMSNorm()\n",
              "  )\n",
              "  (lm_head): Linear(in_features=5120, out_features=32000, bias=False)\n",
              ")"
            ]
          },
          "execution_count": 27,
          "metadata": {},
          "output_type": "execute_result"
        }
      ],
      "source": [
        "model"
      ]
    },
    {
      "cell_type": "code",
      "execution_count": null,
      "id": "56004c74",
      "metadata": {
        "execution": {
          "iopub.execute_input": "2023-08-02T00:01:13.701439Z",
          "iopub.status.busy": "2023-08-02T00:01:13.701102Z",
          "iopub.status.idle": "2023-08-02T00:01:31.046055Z",
          "shell.execute_reply": "2023-08-02T00:01:31.044432Z"
        },
        "papermill": {
          "duration": 17.381443,
          "end_time": "2023-08-02T00:01:31.048250",
          "exception": false,
          "start_time": "2023-08-02T00:01:13.666807",
          "status": "completed"
        },
        "tags": [],
        "id": "56004c74",
        "outputId": "18a12bd6-0877-4fd6-cf6a-1603b8ca50b5"
      },
      "outputs": [
        {
          "name": "stdout",
          "output_type": "stream",
          "text": [
            " During the Triwizard Tournament, Harry faces challenges such as competing against other students, dealing with the judging by Professor Moody, and facing the possibility of being eliminated from the\n",
            "competition. Additionally, he must navigate the complexities of the tasks themselves, which include retrieving a golden egg from a dragon and navigating a maze.\n",
            "\n",
            "Sources: \n",
            "/kaggle/input/harry-potter-books-in-pdf-1-7/HP books/Harry Potter - Book 4 - The Goblet of Fire.pdf \n",
            "/kaggle/input/harry-potter-books-in-pdf-1-7/HP books/Harry Potter - Book 4 - The Goblet of Fire.pdf \n",
            "/kaggle/input/harry-potter-books-in-pdf-1-7/HP books/Harry Potter - Book 4 - The Goblet of Fire.pdf\n",
            "\n",
            "Time elapsed: 17 s\n"
          ]
        }
      ],
      "source": [
        "query = \"Which challenges does Harry face during the Triwizard Tournament?\"\n",
        "print(llm_ans(query))"
      ]
    },
    {
      "cell_type": "code",
      "execution_count": null,
      "id": "dc352a5e",
      "metadata": {
        "execution": {
          "iopub.execute_input": "2023-08-02T00:01:31.116741Z",
          "iopub.status.busy": "2023-08-02T00:01:31.116326Z",
          "iopub.status.idle": "2023-08-02T00:01:42.270278Z",
          "shell.execute_reply": "2023-08-02T00:01:42.268667Z"
        },
        "papermill": {
          "duration": 11.190931,
          "end_time": "2023-08-02T00:01:42.272727",
          "exception": false,
          "start_time": "2023-08-02T00:01:31.081796",
          "status": "completed"
        },
        "tags": [],
        "id": "dc352a5e",
        "outputId": "04139475-3721-45b5-a395-4223eef38b18"
      },
      "outputs": [
        {
          "name": "stdout",
          "output_type": "stream",
          "text": [
            " No, based on the fact that Malfoy is visibly nervous when giving his wand to Voldemort and seems to expect to receive Voldemort's wand in return, indicating that he is not an ally of Voldemort.\n",
            "\n",
            "Sources: \n",
            "/kaggle/input/harry-potter-books-in-pdf-1-7/HP books/Harry Potter - Book 7 - The Deathly Hallows.pdf \n",
            "/kaggle/input/harry-potter-books-in-pdf-1-7/HP books/Harry Potter - Book 7 - The Deathly Hallows.pdf \n",
            "/kaggle/input/harry-potter-books-in-pdf-1-7/HP books/Harry Potter - Book 6 - The Half-Blood Prince.pdf\n",
            "\n",
            "Time elapsed: 11 s\n"
          ]
        }
      ],
      "source": [
        "query = \"Is Malfoy an ally of Voldemort?\"\n",
        "print(llm_ans(query))"
      ]
    },
    {
      "cell_type": "code",
      "execution_count": null,
      "id": "6c101812",
      "metadata": {
        "execution": {
          "iopub.execute_input": "2023-08-02T00:01:42.339370Z",
          "iopub.status.busy": "2023-08-02T00:01:42.339020Z",
          "iopub.status.idle": "2023-08-02T00:01:56.000455Z",
          "shell.execute_reply": "2023-08-02T00:01:55.999350Z"
        },
        "papermill": {
          "duration": 13.697316,
          "end_time": "2023-08-02T00:01:56.003017",
          "exception": false,
          "start_time": "2023-08-02T00:01:42.305701",
          "status": "completed"
        },
        "tags": [],
        "id": "6c101812",
        "outputId": "1558e8f7-bdd9-40dd-91e6-4e395ae99779"
      },
      "outputs": [
        {
          "name": "stdout",
          "output_type": "stream",
          "text": [
            " Based on the information provided, Horcruxes are objects that contain a piece of Lord Voldemort's soul, making them incredibly important to him. It is believed that he would choose objects with a\n",
            "certain level of grandeur or significance, and there are currently six known Horcruxes.\n",
            "\n",
            "Sources: \n",
            "/kaggle/input/harry-potter-books-in-pdf-1-7/HP books/Harry Potter - Book 6 - The Half-Blood Prince.pdf \n",
            "/kaggle/input/harry-potter-books-in-pdf-1-7/HP books/Harry Potter - Book 6 - The Half-Blood Prince.pdf \n",
            "/kaggle/input/harry-potter-books-in-pdf-1-7/HP books/Harry Potter - Book 7 - The Deathly Hallows.pdf\n",
            "\n",
            "Time elapsed: 14 s\n"
          ]
        }
      ],
      "source": [
        "query = \"What are horcrux?\"\n",
        "print(llm_ans(query))"
      ]
    },
    {
      "cell_type": "code",
      "execution_count": null,
      "id": "4ee1b5a5",
      "metadata": {
        "execution": {
          "iopub.execute_input": "2023-08-02T00:01:56.070677Z",
          "iopub.status.busy": "2023-08-02T00:01:56.070283Z",
          "iopub.status.idle": "2023-08-02T00:02:41.458970Z",
          "shell.execute_reply": "2023-08-02T00:02:41.456189Z"
        },
        "papermill": {
          "duration": 45.456391,
          "end_time": "2023-08-02T00:02:41.493223",
          "exception": false,
          "start_time": "2023-08-02T00:01:56.036832",
          "status": "completed"
        },
        "tags": [],
        "id": "4ee1b5a5",
        "outputId": "dd4202ec-7f7d-45e9-b9ab-ce9a0d0d326f"
      },
      "outputs": [
        {
          "name": "stdout",
          "output_type": "stream",
          "text": [
            " Sure! Here are five examples of cool potions from the passage:\n",
            "\n",
            "1. The Draught of Peace - This potion calms anxiety and soothes agitation. However, if you use too much of the ingredients, the drinker will fall into a deep and sometimes irreversible sleep.\n",
            "2. Scurvy-grass, Lovage, and Sneezewort Potion - These plants are effective in inflaming the brain and are often used in Confusing and Befuddlement Draughts to produce hot-headedness and recklessness.\n",
            "3. Wizarding Level Potion - This potion allows the drinker to experience a sense of calm and control, even in difficult situations. It also helps to reduce stress and anxiety.\n",
            "4. Gillyweed Potion - This potion allows the drinker to breathe underwater and stay submerged for longer periods of time. It is useful for wizards who enjoy water sports or need to explore underwater\n",
            "environments.\n",
            "5. Felix Felicis Potion - This potion creates a feeling of euphoria and happiness in the drinker, making them feel more confident and optimistic. It can be useful for wizards who need a boost of\n",
            "confidence before a big event or challenge.\n",
            "\n",
            "Sources: \n",
            "/kaggle/input/harry-potter-books-in-pdf-1-7/HP books/Harry Potter - Book 6 - The Half-Blood Prince.pdf \n",
            "/kaggle/input/harry-potter-books-in-pdf-1-7/HP books/Harry Potter - Book 5 - The Order of the Phoenix.pdf \n",
            "/kaggle/input/harry-potter-books-in-pdf-1-7/HP books/Harry Potter - Book 5 - The Order of the Phoenix.pdf\n",
            "\n",
            "Time elapsed: 45 s\n"
          ]
        }
      ],
      "source": [
        "query = \"Give me 5 examples of cool potions and explain what they do\"\n",
        "print(llm_ans(query))"
      ]
    },
    {
      "cell_type": "markdown",
      "id": "6ba25b5c",
      "metadata": {
        "papermill": {
          "duration": 0.032578,
          "end_time": "2023-08-02T00:02:41.558576",
          "exception": false,
          "start_time": "2023-08-02T00:02:41.525998",
          "status": "completed"
        },
        "tags": [],
        "id": "6ba25b5c"
      },
      "source": [
        "# Gradio Chat UI\n",
        "\n",
        "- Create a chat UI with [Gradio](https://www.gradio.app/guides/quickstart)\n",
        "- [ChatInterface docs](https://www.gradio.app/docs/chatinterface)\n",
        "- The notebook should be running if you want to use the chat interface\n",
        "- Print of the chat UI below"
      ]
    },
    {
      "cell_type": "code",
      "execution_count": null,
      "id": "c7609685",
      "metadata": {
        "execution": {
          "iopub.execute_input": "2023-08-02T00:02:41.629510Z",
          "iopub.status.busy": "2023-08-02T00:02:41.629075Z",
          "iopub.status.idle": "2023-08-02T00:03:01.831130Z",
          "shell.execute_reply": "2023-08-02T00:03:01.829460Z"
        },
        "papermill": {
          "duration": 20.245497,
          "end_time": "2023-08-02T00:03:01.835534",
          "exception": false,
          "start_time": "2023-08-02T00:02:41.590037",
          "status": "completed"
        },
        "tags": [],
        "id": "c7609685",
        "outputId": "a63e3435-c26d-48ea-cbc5-9ab41688811e"
      },
      "outputs": [
        {
          "name": "stdout",
          "output_type": "stream",
          "text": [
            "huggingface/tokenizers: The current process just got forked, after parallelism has already been used. Disabling parallelism to avoid deadlocks...\n",
            "To disable this warning, you can either:\n",
            "\t- Avoid using `tokenizers` before the fork if possible\n",
            "\t- Explicitly set the environment variable TOKENIZERS_PARALLELISM=(true | false)\n"
          ]
        }
      ],
      "source": [
        "! pip install --upgrade gradio -qq"
      ]
    },
    {
      "cell_type": "code",
      "execution_count": null,
      "id": "88f722a5",
      "metadata": {
        "execution": {
          "iopub.execute_input": "2023-08-02T00:03:01.924269Z",
          "iopub.status.busy": "2023-08-02T00:03:01.923878Z",
          "iopub.status.idle": "2023-08-02T00:03:12.603943Z",
          "shell.execute_reply": "2023-08-02T00:03:12.602424Z"
        },
        "papermill": {
          "duration": 10.72014,
          "end_time": "2023-08-02T00:03:12.609850",
          "exception": false,
          "start_time": "2023-08-02T00:03:01.889710",
          "status": "completed"
        },
        "tags": [],
        "id": "88f722a5",
        "outputId": "b40be133-3976-4567-a0e8-1d63a52f61c5"
      },
      "outputs": [
        {
          "name": "stdout",
          "output_type": "stream",
          "text": [
            "Running on local URL:  http://127.0.0.1:7860\n",
            "Kaggle notebooks require sharing enabled. Setting `share=True` (you can turn this off by setting `share=False` in `launch()` explicitly).\n",
            "\n",
            "Running on public URL: https://35443c13457cf3c460.gradio.live\n",
            "\n",
            "This share link expires in 72 hours. For free permanent hosting and GPU upgrades, run `gradio deploy` from Terminal to deploy to Spaces (https://huggingface.co/spaces)\n"
          ]
        },
        {
          "data": {
            "text/html": [
              "<div><iframe src=\"https://35443c13457cf3c460.gradio.live\" width=\"100%\" height=\"500\" allow=\"autoplay; camera; microphone; clipboard-read; clipboard-write;\" frameborder=\"0\" allowfullscreen></iframe></div>"
            ],
            "text/plain": [
              "<IPython.core.display.HTML object>"
            ]
          },
          "metadata": {},
          "output_type": "display_data"
        },
        {
          "data": {
            "text/plain": []
          },
          "execution_count": 33,
          "metadata": {},
          "output_type": "execute_result"
        }
      ],
      "source": [
        "import gradio as gr\n",
        "\n",
        "def predict(message, history):\n",
        "    # output = message # debug mode\n",
        "\n",
        "    output = str(llm_ans(message))\n",
        "    return output\n",
        "\n",
        "demo = gr.ChatInterface(predict,\n",
        "                        title = f' Open-Source LLM ({CFG.model_name}) for Harry Potter Question Answering')\n",
        "\n",
        "demo.launch()"
      ]
    },
    {
      "cell_type": "markdown",
      "id": "10f22b90",
      "metadata": {
        "papermill": {
          "duration": 0.042267,
          "end_time": "2023-08-02T00:03:12.695316",
          "exception": false,
          "start_time": "2023-08-02T00:03:12.653049",
          "status": "completed"
        },
        "tags": [],
        "id": "10f22b90"
      },
      "source": [
        "![image.png](attachment:8b4e495c-2345-4c6a-9d5d-a5a256443354.png)"
      ]
    },
    {
      "cell_type": "markdown",
      "id": "d2ebe356",
      "metadata": {
        "papermill": {
          "duration": 0.032747,
          "end_time": "2023-08-02T00:03:12.760142",
          "exception": false,
          "start_time": "2023-08-02T00:03:12.727395",
          "status": "completed"
        },
        "tags": [],
        "id": "d2ebe356"
      },
      "source": [
        "# Conclusions\n",
        "\n",
        "- Feel free to fork and optimize the code. Lots of things can be improved. I'm planning to experiment with Memory soon.\n",
        "\n",
        "- Things I found had the most impact on models output quality in my experiments:\n",
        "    - Prompt engineering\n",
        "    - Splitting: chunk size, overlap\n",
        "    - Search: Similarity, MMR , k\n",
        "    - Pipeline parameters (top_p, penalty)\n",
        "    - Embeddings function\n",
        "    - LLM parameters (max len)\n",
        "    - Other models families\n",
        "    - Bigger models\n",
        "\n",
        "\n",
        "- LangChain, Hugging Face and Gradio are awesome libs!\n",
        "\n",
        "- Upvote if you liked it or want me to keep updating this with new models and functionalities!\n",
        "\n",
        "🦜🔗🤗"
      ]
    },
    {
      "cell_type": "markdown",
      "id": "aade5075",
      "metadata": {
        "papermill": {
          "duration": 0.032778,
          "end_time": "2023-08-02T00:03:12.825052",
          "exception": false,
          "start_time": "2023-08-02T00:03:12.792274",
          "status": "completed"
        },
        "tags": [],
        "id": "aade5075"
      },
      "source": [
        "![image.png](attachment:68773819-4358-4ded-be3e-f1d275103171.png)"
      ]
    }
  ],
  "metadata": {
    "kernelspec": {
      "display_name": "Python 3",
      "language": "python",
      "name": "python3"
    },
    "language_info": {
      "codemirror_mode": {
        "name": "ipython",
        "version": 3
      },
      "file_extension": ".py",
      "mimetype": "text/x-python",
      "name": "python",
      "nbconvert_exporter": "python",
      "pygments_lexer": "ipython3",
      "version": "3.10.10"
    },
    "papermill": {
      "default_parameters": {},
      "duration": 1090.403603,
      "end_time": "2023-08-02T00:03:15.888476",
      "environment_variables": {},
      "exception": null,
      "input_path": "__notebook__.ipynb",
      "output_path": "__notebook__.ipynb",
      "parameters": {},
      "start_time": "2023-08-01T23:45:05.484873",
      "version": "2.4.0"
    },
    "colab": {
      "provenance": [],
      "include_colab_link": true
    }
  },
  "nbformat": 4,
  "nbformat_minor": 5
}
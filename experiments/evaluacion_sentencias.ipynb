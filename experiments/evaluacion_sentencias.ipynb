{
 "cells": [
  {
   "cell_type": "code",
   "execution_count": 8,
   "metadata": {},
   "outputs": [
    {
     "name": "stdout",
     "output_type": "stream",
     "text": [
      "0 : Score: 0.5957 \t\t The name of the young girl who died is Elodis. The cause of death is leukemia due to benzene poisoning. \t\t The name of the girl who died is Juliana Vann. The cause of death is a lingering illness, which WFA-funded doctors claimed was caused by water contamination. \t\t \n",
      "1 : Score: 0.9747 \t\t The name of the young girl who died is Juliana Vann, and the cause of her death is a lingering illness caused by water contamination according to WFA-funded doctors. \t\t The name of the girl who died is Juliana Vann. The cause of death is a lingering illness, which WFA-funded doctors claimed was caused by water contamination. \t\t \n",
      "2 : Score: 0.8858 \t\t The kidnapping takes place at GASTech Headquarters in the southern part of Abila \t\t The kidnapping takes place at GASTech Headquarters in the southern part of Abila, city of Kronos \t\t \n",
      "3 : Score: 0.5442 \t\t The motivations behind the kidnapping carried out by the more violent wing of the POK are likely rooted in their anarchist ideology and a desire to create chaos and undermine the authority of the state. They may see this act as a way to further their goals of overthrowing the government and establishing a new society free from oppressive structures. \t\t The more violent wing of the POK under the leadership of Mandor Vann (uncle to Isia and Juliana Vann) were motivated to kidnap members of GASTech’s leadership to exact revenge for years of pollution that GASTech’s drilling operations have inflicted on the people of Elodis. Additional motivations include GASTech’s recent IPO which resulted in massive payouts for GASTech leadership, making them ripe for ransom. Another motivation for the kidnapping is the frustration with the corruption and lax environmental regulation of the Government of Kronos, personified by GASTech. \t\t \n"
     ]
    }
   ],
   "source": [
    "from sentence_transformers import SentenceTransformer, util\n",
    "model = SentenceTransformer('all-MiniLM-L6-v2')\n",
    "\n",
    "# questions\n",
    "\n",
    "questions = [\n",
    "    \n",
    "    'What were the motivations behind the kidnapping carried out by the more violent wing of the POK?'\n",
    "]\n",
    "\n",
    "\n",
    "# Two lists of sentences\n",
    "respuestas = ['The name of the young girl who died is Elodis. The cause of death is leukemia due to benzene poisoning.',\n",
    "            'The name of the young girl who died is Juliana Vann, and the cause of her death is a lingering illness caused by water contamination according to WFA-funded doctors.',             \n",
    "            'The kidnapping takes place at GASTech Headquarters in the southern part of Abila',\n",
    "            'The motivations behind the kidnapping carried out by the more violent wing of the POK are likely rooted in their anarchist ideology and a desire to create chaos and undermine the authority of the state. They may see this act as a way to further their goals of overthrowing the government and establishing a new society free from oppressive structures.']\n",
    "\n",
    "verdad = ['The name of the girl who died is Juliana Vann. The cause of death is a lingering illness, which WFA-funded doctors claimed was caused by water contamination.',\n",
    "              'The name of the girl who died is Juliana Vann. The cause of death is a lingering illness, which WFA-funded doctors claimed was caused by water contamination.',\n",
    "              'The kidnapping takes place at GASTech Headquarters in the southern part of Abila, city of Kronos',\n",
    "              'The more violent wing of the POK under the leadership of Mandor Vann (uncle to Isia and Juliana Vann) were motivated to kidnap members of GASTech’s leadership to exact revenge for years of pollution that GASTech’s drilling operations have inflicted on the people of Elodis. Additional motivations include GASTech’s recent IPO which resulted in massive payouts for GASTech leadership, making them ripe for ransom. Another motivation for the kidnapping is the frustration with the corruption and lax environmental regulation of the Government of Kronos, personified by GASTech.',\n",
    "              ]\n",
    "\n",
    "#Compute embedding for both lists\n",
    "rembeddings = model.encode(respuestas, convert_to_tensor=True)\n",
    "vembeddings = model.encode(verdad, convert_to_tensor=True)\n",
    "\n",
    "#Compute cosine-similarities\n",
    "cosine_scores = util.cos_sim(rembeddings, vembeddings)\n",
    "\n",
    "#Output the pairs with their score\n",
    "for i in range(len(sentences1)):\n",
    "    print(i,\": Score: {:.4f} \\t\\t {} \\t\\t {} \\t\\t \".format(cosine_scores[i][i], respuestas[i], verdad[i]))"
   ]
  }
 ],
 "metadata": {
  "kernelspec": {
   "display_name": ".retro_gpt",
   "language": "python",
   "name": "python3"
  },
  "language_info": {
   "codemirror_mode": {
    "name": "ipython",
    "version": 3
   },
   "file_extension": ".py",
   "mimetype": "text/x-python",
   "name": "python",
   "nbconvert_exporter": "python",
   "pygments_lexer": "ipython3",
   "version": "3.9.13"
  },
  "orig_nbformat": 4
 },
 "nbformat": 4,
 "nbformat_minor": 2
}

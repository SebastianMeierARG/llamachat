{
  "cells": [
    {
      "cell_type": "code",
      "execution_count": 1,
      "metadata": {
        "colab": {
          "base_uri": "https://localhost:8080/"
        },
        "id": "6EMYlqRpkTVG",
        "outputId": "5093b801-1aca-4fab-a3cc-f605d0d35eee"
      },
      "outputs": [
        {
          "name": "stdout",
          "output_type": "stream",
          "text": [
            "Drive already mounted at /content/gdrive; to attempt to forcibly remount, call drive.mount(\"/content/gdrive\", force_remount=True).\n"
          ]
        }
      ],
      "source": [
        "from google.colab import drive\n",
        "drive.mount('/content/gdrive')"
      ]
    },
    {
      "cell_type": "code",
      "execution_count": 2,
      "metadata": {
        "colab": {
          "base_uri": "https://localhost:8080/"
        },
        "id": "eweDOfeflBe_",
        "outputId": "8cc46040-1717-4e87-87d1-e8a2d8653faf"
      },
      "outputs": [
        {
          "name": "stdout",
          "output_type": "stream",
          "text": [
            "/content/gdrive/My Drive/llamachat\n"
          ]
        }
      ],
      "source": [
        "%cd gdrive/My Drive/llamachat"
      ]
    },
    {
      "cell_type": "code",
      "execution_count": 3,
      "metadata": {
        "colab": {
          "base_uri": "https://localhost:8080/"
        },
        "id": "Oaafzo5NlLWC",
        "outputId": "7e633387-1479-4350-cef6-5c41cd4fb822"
      },
      "outputs": [
        {
          "name": "stdout",
          "output_type": "stream",
          "text": [
            "Cloning into 'llamachat'...\n",
            "remote: Enumerating objects: 1155, done.\u001b[K\n",
            "remote: Counting objects: 100% (299/299), done.\u001b[K\n",
            "remote: Compressing objects: 100% (188/188), done.\u001b[K\n",
            "remote: Total 1155 (delta 133), reused 253 (delta 98), pack-reused 856\u001b[K\n",
            "Receiving objects: 100% (1155/1155), 25.93 MiB | 14.22 MiB/s, done.\n",
            "Resolving deltas: 100% (144/144), done.\n",
            "Updating files: 100% (913/913), done.\n"
          ]
        }
      ],
      "source": [
        "! git clone https://github.com/castillosebastian/llamachat.git"
      ]
    },
    {
      "cell_type": "code",
      "execution_count": 4,
      "metadata": {
        "id": "oEnpjFHQlnRs"
      },
      "outputs": [],
      "source": [
        "%%bash\n",
        "cd llamachat/"
      ]
    },
    {
      "cell_type": "code",
      "execution_count": 5,
      "metadata": {
        "colab": {
          "base_uri": "https://localhost:8080/"
        },
        "id": "wyY-HTOjl7fI",
        "outputId": "eeebde52-6788-4f4d-e28d-0808799070e7"
      },
      "outputs": [
        {
          "name": "stdout",
          "output_type": "stream",
          "text": [
            "Requirement already satisfied: faiss-cpu==1.7.4 in /usr/local/lib/python3.10/dist-packages (from -r llamachat/requirements_cloud.txt (line 2)) (1.7.4)\n",
            "Requirement already satisfied: fastapi>=0.96.0 in /usr/local/lib/python3.10/dist-packages (from -r llamachat/requirements_cloud.txt (line 3)) (0.100.1)\n",
            "Requirement already satisfied: ipykernel>=6.23.1 in /usr/local/lib/python3.10/dist-packages (from -r llamachat/requirements_cloud.txt (line 4)) (6.25.0)\n",
            "Requirement already satisfied: langchain==0.0.225 in /usr/local/lib/python3.10/dist-packages (from -r llamachat/requirements_cloud.txt (line 5)) (0.0.225)\n",
            "Requirement already satisfied: pypdf==3.8.1 in /usr/local/lib/python3.10/dist-packages (from -r llamachat/requirements_cloud.txt (line 6)) (3.8.1)\n",
            "Requirement already satisfied: python-box==7.0.1 in /usr/local/lib/python3.10/dist-packages (from -r llamachat/requirements_cloud.txt (line 7)) (7.0.1)\n",
            "Requirement already satisfied: python-dotenv==1.0.0 in /usr/local/lib/python3.10/dist-packages (from -r llamachat/requirements_cloud.txt (line 8)) (1.0.0)\n",
            "Requirement already satisfied: sentence-transformers==2.2.2 in /usr/local/lib/python3.10/dist-packages (from -r llamachat/requirements_cloud.txt (line 9)) (2.2.2)\n",
            "Requirement already satisfied: uvicorn>=0.22.0 in /usr/local/lib/python3.10/dist-packages (from -r llamachat/requirements_cloud.txt (line 10)) (0.23.2)\n",
            "Requirement already satisfied: chardet in /usr/local/lib/python3.10/dist-packages (from -r llamachat/requirements_cloud.txt (line 12)) (4.0.0)\n",
            "Requirement already satisfied: PyYAML>=5.4.1 in /usr/local/lib/python3.10/dist-packages (from langchain==0.0.225->-r llamachat/requirements_cloud.txt (line 5)) (6.0.1)\n",
            "Requirement already satisfied: SQLAlchemy<3,>=1.4 in /usr/local/lib/python3.10/dist-packages (from langchain==0.0.225->-r llamachat/requirements_cloud.txt (line 5)) (2.0.19)\n",
            "Requirement already satisfied: aiohttp<4.0.0,>=3.8.3 in /usr/local/lib/python3.10/dist-packages (from langchain==0.0.225->-r llamachat/requirements_cloud.txt (line 5)) (3.8.5)\n",
            "Requirement already satisfied: async-timeout<5.0.0,>=4.0.0 in /usr/local/lib/python3.10/dist-packages (from langchain==0.0.225->-r llamachat/requirements_cloud.txt (line 5)) (4.0.2)\n",
            "Requirement already satisfied: dataclasses-json<0.6.0,>=0.5.7 in /usr/local/lib/python3.10/dist-packages (from langchain==0.0.225->-r llamachat/requirements_cloud.txt (line 5)) (0.5.14)\n",
            "Requirement already satisfied: langchainplus-sdk<0.0.21,>=0.0.20 in /usr/local/lib/python3.10/dist-packages (from langchain==0.0.225->-r llamachat/requirements_cloud.txt (line 5)) (0.0.20)\n",
            "Requirement already satisfied: numexpr<3.0.0,>=2.8.4 in /usr/local/lib/python3.10/dist-packages (from langchain==0.0.225->-r llamachat/requirements_cloud.txt (line 5)) (2.8.4)\n",
            "Requirement already satisfied: numpy<2,>=1 in /usr/local/lib/python3.10/dist-packages (from langchain==0.0.225->-r llamachat/requirements_cloud.txt (line 5)) (1.22.4)\n",
            "Requirement already satisfied: openapi-schema-pydantic<2.0,>=1.2 in /usr/local/lib/python3.10/dist-packages (from langchain==0.0.225->-r llamachat/requirements_cloud.txt (line 5)) (1.2.4)\n",
            "Requirement already satisfied: pydantic<2,>=1 in /usr/local/lib/python3.10/dist-packages (from langchain==0.0.225->-r llamachat/requirements_cloud.txt (line 5)) (1.10.12)\n",
            "Requirement already satisfied: requests<3,>=2 in /usr/local/lib/python3.10/dist-packages (from langchain==0.0.225->-r llamachat/requirements_cloud.txt (line 5)) (2.27.1)\n",
            "Requirement already satisfied: tenacity<9.0.0,>=8.1.0 in /usr/local/lib/python3.10/dist-packages (from langchain==0.0.225->-r llamachat/requirements_cloud.txt (line 5)) (8.2.2)\n",
            "Requirement already satisfied: transformers<5.0.0,>=4.6.0 in /usr/local/lib/python3.10/dist-packages (from sentence-transformers==2.2.2->-r llamachat/requirements_cloud.txt (line 9)) (4.31.0)\n",
            "Requirement already satisfied: tqdm in /usr/local/lib/python3.10/dist-packages (from sentence-transformers==2.2.2->-r llamachat/requirements_cloud.txt (line 9)) (4.65.0)\n",
            "Requirement already satisfied: torch>=1.6.0 in /usr/local/lib/python3.10/dist-packages (from sentence-transformers==2.2.2->-r llamachat/requirements_cloud.txt (line 9)) (2.0.1+cu118)\n",
            "Requirement already satisfied: torchvision in /usr/local/lib/python3.10/dist-packages (from sentence-transformers==2.2.2->-r llamachat/requirements_cloud.txt (line 9)) (0.15.2+cu118)\n",
            "Requirement already satisfied: scikit-learn in /usr/local/lib/python3.10/dist-packages (from sentence-transformers==2.2.2->-r llamachat/requirements_cloud.txt (line 9)) (1.2.2)\n",
            "Requirement already satisfied: scipy in /usr/local/lib/python3.10/dist-packages (from sentence-transformers==2.2.2->-r llamachat/requirements_cloud.txt (line 9)) (1.10.1)\n",
            "Requirement already satisfied: nltk in /usr/local/lib/python3.10/dist-packages (from sentence-transformers==2.2.2->-r llamachat/requirements_cloud.txt (line 9)) (3.8.1)\n",
            "Requirement already satisfied: sentencepiece in /usr/local/lib/python3.10/dist-packages (from sentence-transformers==2.2.2->-r llamachat/requirements_cloud.txt (line 9)) (0.1.99)\n",
            "Requirement already satisfied: huggingface-hub>=0.4.0 in /usr/local/lib/python3.10/dist-packages (from sentence-transformers==2.2.2->-r llamachat/requirements_cloud.txt (line 9)) (0.16.4)\n",
            "Requirement already satisfied: starlette<0.28.0,>=0.27.0 in /usr/local/lib/python3.10/dist-packages (from fastapi>=0.96.0->-r llamachat/requirements_cloud.txt (line 3)) (0.27.0)\n",
            "Requirement already satisfied: typing-extensions>=4.5.0 in /usr/local/lib/python3.10/dist-packages (from fastapi>=0.96.0->-r llamachat/requirements_cloud.txt (line 3)) (4.7.1)\n",
            "Requirement already satisfied: comm>=0.1.1 in /usr/local/lib/python3.10/dist-packages (from ipykernel>=6.23.1->-r llamachat/requirements_cloud.txt (line 4)) (0.1.4)\n",
            "Requirement already satisfied: debugpy>=1.6.5 in /usr/local/lib/python3.10/dist-packages (from ipykernel>=6.23.1->-r llamachat/requirements_cloud.txt (line 4)) (1.6.6)\n",
            "Requirement already satisfied: ipython>=7.23.1 in /usr/local/lib/python3.10/dist-packages (from ipykernel>=6.23.1->-r llamachat/requirements_cloud.txt (line 4)) (7.34.0)\n",
            "Requirement already satisfied: jupyter-client>=6.1.12 in /usr/local/lib/python3.10/dist-packages (from ipykernel>=6.23.1->-r llamachat/requirements_cloud.txt (line 4)) (6.1.12)\n",
            "Requirement already satisfied: jupyter-core!=5.0.*,>=4.12 in /usr/local/lib/python3.10/dist-packages (from ipykernel>=6.23.1->-r llamachat/requirements_cloud.txt (line 4)) (5.3.1)\n",
            "Requirement already satisfied: matplotlib-inline>=0.1 in /usr/local/lib/python3.10/dist-packages (from ipykernel>=6.23.1->-r llamachat/requirements_cloud.txt (line 4)) (0.1.6)\n",
            "Requirement already satisfied: nest-asyncio in /usr/local/lib/python3.10/dist-packages (from ipykernel>=6.23.1->-r llamachat/requirements_cloud.txt (line 4)) (1.5.6)\n",
            "Requirement already satisfied: packaging in /usr/local/lib/python3.10/dist-packages (from ipykernel>=6.23.1->-r llamachat/requirements_cloud.txt (line 4)) (23.1)\n",
            "Requirement already satisfied: psutil in /usr/local/lib/python3.10/dist-packages (from ipykernel>=6.23.1->-r llamachat/requirements_cloud.txt (line 4)) (5.9.5)\n",
            "Requirement already satisfied: pyzmq>=20 in /usr/local/lib/python3.10/dist-packages (from ipykernel>=6.23.1->-r llamachat/requirements_cloud.txt (line 4)) (23.2.1)\n",
            "Requirement already satisfied: tornado>=6.1 in /usr/local/lib/python3.10/dist-packages (from ipykernel>=6.23.1->-r llamachat/requirements_cloud.txt (line 4)) (6.3.1)\n",
            "Requirement already satisfied: traitlets>=5.4.0 in /usr/local/lib/python3.10/dist-packages (from ipykernel>=6.23.1->-r llamachat/requirements_cloud.txt (line 4)) (5.7.1)\n",
            "Requirement already satisfied: click>=7.0 in /usr/local/lib/python3.10/dist-packages (from uvicorn>=0.22.0->-r llamachat/requirements_cloud.txt (line 10)) (8.1.6)\n",
            "Requirement already satisfied: h11>=0.8 in /usr/local/lib/python3.10/dist-packages (from uvicorn>=0.22.0->-r llamachat/requirements_cloud.txt (line 10)) (0.14.0)\n",
            "Requirement already satisfied: ruamel.yaml>=0.17 in /usr/local/lib/python3.10/dist-packages (from python-box==7.0.1->-r llamachat/requirements_cloud.txt (line 7)) (0.17.32)\n",
            "Requirement already satisfied: toml in /usr/local/lib/python3.10/dist-packages (from python-box==7.0.1->-r llamachat/requirements_cloud.txt (line 7)) (0.10.2)\n",
            "Requirement already satisfied: msgpack in /usr/local/lib/python3.10/dist-packages (from python-box==7.0.1->-r llamachat/requirements_cloud.txt (line 7)) (1.0.5)\n",
            "Requirement already satisfied: attrs>=17.3.0 in /usr/local/lib/python3.10/dist-packages (from aiohttp<4.0.0,>=3.8.3->langchain==0.0.225->-r llamachat/requirements_cloud.txt (line 5)) (23.1.0)\n",
            "Requirement already satisfied: charset-normalizer<4.0,>=2.0 in /usr/local/lib/python3.10/dist-packages (from aiohttp<4.0.0,>=3.8.3->langchain==0.0.225->-r llamachat/requirements_cloud.txt (line 5)) (2.0.12)\n",
            "Requirement already satisfied: multidict<7.0,>=4.5 in /usr/local/lib/python3.10/dist-packages (from aiohttp<4.0.0,>=3.8.3->langchain==0.0.225->-r llamachat/requirements_cloud.txt (line 5)) (6.0.4)\n",
            "Requirement already satisfied: yarl<2.0,>=1.0 in /usr/local/lib/python3.10/dist-packages (from aiohttp<4.0.0,>=3.8.3->langchain==0.0.225->-r llamachat/requirements_cloud.txt (line 5)) (1.9.2)\n",
            "Requirement already satisfied: frozenlist>=1.1.1 in /usr/local/lib/python3.10/dist-packages (from aiohttp<4.0.0,>=3.8.3->langchain==0.0.225->-r llamachat/requirements_cloud.txt (line 5)) (1.4.0)\n",
            "Requirement already satisfied: aiosignal>=1.1.2 in /usr/local/lib/python3.10/dist-packages (from aiohttp<4.0.0,>=3.8.3->langchain==0.0.225->-r llamachat/requirements_cloud.txt (line 5)) (1.3.1)\n",
            "Requirement already satisfied: marshmallow<4.0.0,>=3.18.0 in /usr/local/lib/python3.10/dist-packages (from dataclasses-json<0.6.0,>=0.5.7->langchain==0.0.225->-r llamachat/requirements_cloud.txt (line 5)) (3.20.1)\n",
            "Requirement already satisfied: typing-inspect<1,>=0.4.0 in /usr/local/lib/python3.10/dist-packages (from dataclasses-json<0.6.0,>=0.5.7->langchain==0.0.225->-r llamachat/requirements_cloud.txt (line 5)) (0.9.0)\n",
            "Requirement already satisfied: filelock in /usr/local/lib/python3.10/dist-packages (from huggingface-hub>=0.4.0->sentence-transformers==2.2.2->-r llamachat/requirements_cloud.txt (line 9)) (3.12.2)\n",
            "Requirement already satisfied: fsspec in /usr/local/lib/python3.10/dist-packages (from huggingface-hub>=0.4.0->sentence-transformers==2.2.2->-r llamachat/requirements_cloud.txt (line 9)) (2023.6.0)\n",
            "Requirement already satisfied: setuptools>=18.5 in /usr/local/lib/python3.10/dist-packages (from ipython>=7.23.1->ipykernel>=6.23.1->-r llamachat/requirements_cloud.txt (line 4)) (67.7.2)\n",
            "Requirement already satisfied: jedi>=0.16 in /usr/local/lib/python3.10/dist-packages (from ipython>=7.23.1->ipykernel>=6.23.1->-r llamachat/requirements_cloud.txt (line 4)) (0.19.0)\n",
            "Requirement already satisfied: decorator in /usr/local/lib/python3.10/dist-packages (from ipython>=7.23.1->ipykernel>=6.23.1->-r llamachat/requirements_cloud.txt (line 4)) (4.4.2)\n",
            "Requirement already satisfied: pickleshare in /usr/local/lib/python3.10/dist-packages (from ipython>=7.23.1->ipykernel>=6.23.1->-r llamachat/requirements_cloud.txt (line 4)) (0.7.5)\n",
            "Requirement already satisfied: prompt-toolkit!=3.0.0,!=3.0.1,<3.1.0,>=2.0.0 in /usr/local/lib/python3.10/dist-packages (from ipython>=7.23.1->ipykernel>=6.23.1->-r llamachat/requirements_cloud.txt (line 4)) (3.0.39)\n",
            "Requirement already satisfied: pygments in /usr/local/lib/python3.10/dist-packages (from ipython>=7.23.1->ipykernel>=6.23.1->-r llamachat/requirements_cloud.txt (line 4)) (2.14.0)\n",
            "Requirement already satisfied: backcall in /usr/local/lib/python3.10/dist-packages (from ipython>=7.23.1->ipykernel>=6.23.1->-r llamachat/requirements_cloud.txt (line 4)) (0.2.0)\n",
            "Requirement already satisfied: pexpect>4.3 in /usr/local/lib/python3.10/dist-packages (from ipython>=7.23.1->ipykernel>=6.23.1->-r llamachat/requirements_cloud.txt (line 4)) (4.8.0)\n",
            "Requirement already satisfied: python-dateutil>=2.1 in /usr/local/lib/python3.10/dist-packages (from jupyter-client>=6.1.12->ipykernel>=6.23.1->-r llamachat/requirements_cloud.txt (line 4)) (2.8.2)\n",
            "Requirement already satisfied: platformdirs>=2.5 in /usr/local/lib/python3.10/dist-packages (from jupyter-core!=5.0.*,>=4.12->ipykernel>=6.23.1->-r llamachat/requirements_cloud.txt (line 4)) (3.9.1)\n",
            "Requirement already satisfied: urllib3<1.27,>=1.21.1 in /usr/local/lib/python3.10/dist-packages (from requests<3,>=2->langchain==0.0.225->-r llamachat/requirements_cloud.txt (line 5)) (1.26.16)\n",
            "Requirement already satisfied: certifi>=2017.4.17 in /usr/local/lib/python3.10/dist-packages (from requests<3,>=2->langchain==0.0.225->-r llamachat/requirements_cloud.txt (line 5)) (2023.7.22)\n",
            "Requirement already satisfied: idna<4,>=2.5 in /usr/local/lib/python3.10/dist-packages (from requests<3,>=2->langchain==0.0.225->-r llamachat/requirements_cloud.txt (line 5)) (3.4)\n",
            "Requirement already satisfied: ruamel.yaml.clib>=0.2.7 in /usr/local/lib/python3.10/dist-packages (from ruamel.yaml>=0.17->python-box==7.0.1->-r llamachat/requirements_cloud.txt (line 7)) (0.2.7)\n",
            "Requirement already satisfied: greenlet!=0.4.17 in /usr/local/lib/python3.10/dist-packages (from SQLAlchemy<3,>=1.4->langchain==0.0.225->-r llamachat/requirements_cloud.txt (line 5)) (2.0.2)\n",
            "Requirement already satisfied: anyio<5,>=3.4.0 in /usr/local/lib/python3.10/dist-packages (from starlette<0.28.0,>=0.27.0->fastapi>=0.96.0->-r llamachat/requirements_cloud.txt (line 3)) (3.7.1)\n",
            "Requirement already satisfied: sympy in /usr/local/lib/python3.10/dist-packages (from torch>=1.6.0->sentence-transformers==2.2.2->-r llamachat/requirements_cloud.txt (line 9)) (1.11.1)\n",
            "Requirement already satisfied: networkx in /usr/local/lib/python3.10/dist-packages (from torch>=1.6.0->sentence-transformers==2.2.2->-r llamachat/requirements_cloud.txt (line 9)) (3.1)\n",
            "Requirement already satisfied: jinja2 in /usr/local/lib/python3.10/dist-packages (from torch>=1.6.0->sentence-transformers==2.2.2->-r llamachat/requirements_cloud.txt (line 9)) (3.1.2)\n",
            "Requirement already satisfied: triton==2.0.0 in /usr/local/lib/python3.10/dist-packages (from torch>=1.6.0->sentence-transformers==2.2.2->-r llamachat/requirements_cloud.txt (line 9)) (2.0.0)\n",
            "Requirement already satisfied: cmake in /usr/local/lib/python3.10/dist-packages (from triton==2.0.0->torch>=1.6.0->sentence-transformers==2.2.2->-r llamachat/requirements_cloud.txt (line 9)) (3.25.2)\n",
            "Requirement already satisfied: lit in /usr/local/lib/python3.10/dist-packages (from triton==2.0.0->torch>=1.6.0->sentence-transformers==2.2.2->-r llamachat/requirements_cloud.txt (line 9)) (16.0.6)\n",
            "Requirement already satisfied: regex!=2019.12.17 in /usr/local/lib/python3.10/dist-packages (from transformers<5.0.0,>=4.6.0->sentence-transformers==2.2.2->-r llamachat/requirements_cloud.txt (line 9)) (2022.10.31)\n",
            "Requirement already satisfied: tokenizers!=0.11.3,<0.14,>=0.11.1 in /usr/local/lib/python3.10/dist-packages (from transformers<5.0.0,>=4.6.0->sentence-transformers==2.2.2->-r llamachat/requirements_cloud.txt (line 9)) (0.13.3)\n",
            "Requirement already satisfied: safetensors>=0.3.1 in /usr/local/lib/python3.10/dist-packages (from transformers<5.0.0,>=4.6.0->sentence-transformers==2.2.2->-r llamachat/requirements_cloud.txt (line 9)) (0.3.1)\n",
            "Requirement already satisfied: joblib in /usr/local/lib/python3.10/dist-packages (from nltk->sentence-transformers==2.2.2->-r llamachat/requirements_cloud.txt (line 9)) (1.3.1)\n",
            "Requirement already satisfied: threadpoolctl>=2.0.0 in /usr/local/lib/python3.10/dist-packages (from scikit-learn->sentence-transformers==2.2.2->-r llamachat/requirements_cloud.txt (line 9)) (3.2.0)\n",
            "Requirement already satisfied: pillow!=8.3.*,>=5.3.0 in /usr/local/lib/python3.10/dist-packages (from torchvision->sentence-transformers==2.2.2->-r llamachat/requirements_cloud.txt (line 9)) (9.4.0)\n",
            "Requirement already satisfied: sniffio>=1.1 in /usr/local/lib/python3.10/dist-packages (from anyio<5,>=3.4.0->starlette<0.28.0,>=0.27.0->fastapi>=0.96.0->-r llamachat/requirements_cloud.txt (line 3)) (1.3.0)\n",
            "Requirement already satisfied: exceptiongroup in /usr/local/lib/python3.10/dist-packages (from anyio<5,>=3.4.0->starlette<0.28.0,>=0.27.0->fastapi>=0.96.0->-r llamachat/requirements_cloud.txt (line 3)) (1.1.2)\n",
            "Requirement already satisfied: parso<0.9.0,>=0.8.3 in /usr/local/lib/python3.10/dist-packages (from jedi>=0.16->ipython>=7.23.1->ipykernel>=6.23.1->-r llamachat/requirements_cloud.txt (line 4)) (0.8.3)\n",
            "Requirement already satisfied: ptyprocess>=0.5 in /usr/local/lib/python3.10/dist-packages (from pexpect>4.3->ipython>=7.23.1->ipykernel>=6.23.1->-r llamachat/requirements_cloud.txt (line 4)) (0.7.0)\n",
            "Requirement already satisfied: wcwidth in /usr/local/lib/python3.10/dist-packages (from prompt-toolkit!=3.0.0,!=3.0.1,<3.1.0,>=2.0.0->ipython>=7.23.1->ipykernel>=6.23.1->-r llamachat/requirements_cloud.txt (line 4)) (0.2.6)\n",
            "Requirement already satisfied: six>=1.5 in /usr/local/lib/python3.10/dist-packages (from python-dateutil>=2.1->jupyter-client>=6.1.12->ipykernel>=6.23.1->-r llamachat/requirements_cloud.txt (line 4)) (1.16.0)\n",
            "Requirement already satisfied: mypy-extensions>=0.3.0 in /usr/local/lib/python3.10/dist-packages (from typing-inspect<1,>=0.4.0->dataclasses-json<0.6.0,>=0.5.7->langchain==0.0.225->-r llamachat/requirements_cloud.txt (line 5)) (1.0.0)\n",
            "Requirement already satisfied: MarkupSafe>=2.0 in /usr/local/lib/python3.10/dist-packages (from jinja2->torch>=1.6.0->sentence-transformers==2.2.2->-r llamachat/requirements_cloud.txt (line 9)) (2.1.3)\n",
            "Requirement already satisfied: mpmath>=0.19 in /usr/local/lib/python3.10/dist-packages (from sympy->torch>=1.6.0->sentence-transformers==2.2.2->-r llamachat/requirements_cloud.txt (line 9)) (1.3.0)\n"
          ]
        }
      ],
      "source": [
        "! pip install -r 'llamachat/requirements_cloud.txt'"
      ]
    },
    {
      "cell_type": "code",
      "execution_count": 6,
      "metadata": {
        "colab": {
          "base_uri": "https://localhost:8080/"
        },
        "id": "ZwNnXGkHjl6Y",
        "outputId": "3b2ad284-3731-4118-817f-bfdc00e80db8"
      },
      "outputs": [
        {
          "name": "stdout",
          "output_type": "stream",
          "text": [
            "Requirement already satisfied: ctransformers in /usr/local/lib/python3.10/dist-packages (0.2.18)\n",
            "Requirement already satisfied: huggingface-hub in /usr/local/lib/python3.10/dist-packages (from ctransformers) (0.16.4)\n",
            "Requirement already satisfied: py-cpuinfo<10.0.0,>=9.0.0 in /usr/local/lib/python3.10/dist-packages (from ctransformers) (9.0.0)\n",
            "Requirement already satisfied: filelock in /usr/local/lib/python3.10/dist-packages (from huggingface-hub->ctransformers) (3.12.2)\n",
            "Requirement already satisfied: fsspec in /usr/local/lib/python3.10/dist-packages (from huggingface-hub->ctransformers) (2023.6.0)\n",
            "Requirement already satisfied: requests in /usr/local/lib/python3.10/dist-packages (from huggingface-hub->ctransformers) (2.27.1)\n",
            "Requirement already satisfied: tqdm>=4.42.1 in /usr/local/lib/python3.10/dist-packages (from huggingface-hub->ctransformers) (4.65.0)\n",
            "Requirement already satisfied: pyyaml>=5.1 in /usr/local/lib/python3.10/dist-packages (from huggingface-hub->ctransformers) (6.0.1)\n",
            "Requirement already satisfied: typing-extensions>=3.7.4.3 in /usr/local/lib/python3.10/dist-packages (from huggingface-hub->ctransformers) (4.7.1)\n",
            "Requirement already satisfied: packaging>=20.9 in /usr/local/lib/python3.10/dist-packages (from huggingface-hub->ctransformers) (23.1)\n",
            "Requirement already satisfied: urllib3<1.27,>=1.21.1 in /usr/local/lib/python3.10/dist-packages (from requests->huggingface-hub->ctransformers) (1.26.16)\n",
            "Requirement already satisfied: certifi>=2017.4.17 in /usr/local/lib/python3.10/dist-packages (from requests->huggingface-hub->ctransformers) (2023.7.22)\n",
            "Requirement already satisfied: charset-normalizer~=2.0.0 in /usr/local/lib/python3.10/dist-packages (from requests->huggingface-hub->ctransformers) (2.0.12)\n",
            "Requirement already satisfied: idna<4,>=2.5 in /usr/local/lib/python3.10/dist-packages (from requests->huggingface-hub->ctransformers) (3.4)\n"
          ]
        }
      ],
      "source": [
        "%%bash\n",
        "CT_CUBLAS=1 pip install ctransformers --no-binary ctransformers"
      ]
    },
    {
      "cell_type": "code",
      "execution_count": 7,
      "metadata": {
        "colab": {
          "base_uri": "https://localhost:8080/"
        },
        "id": "4HbhZA3jn4w9",
        "outputId": "0540513b-303f-41db-e659-79023c2ef02e"
      },
      "outputs": [
        {
          "name": "stdout",
          "output_type": "stream",
          "text": [
            "/content/gdrive/My Drive/llamachat/llamachat/models\n"
          ]
        }
      ],
      "source": [
        "%cd /content/gdrive/My Drive/llamachat/llamachat/models"
      ]
    },
    {
      "cell_type": "code",
      "execution_count": 8,
      "metadata": {
        "colab": {
          "base_uri": "https://localhost:8080/"
        },
        "id": "1Kge9E-3w9Gj",
        "outputId": "dbb53cee-cf68-44c0-9efd-9606a36bc5e9"
      },
      "outputs": [
        {
          "name": "stdout",
          "output_type": "stream",
          "text": [
            "model_download.txt\n"
          ]
        }
      ],
      "source": [
        "%%bash\n",
        "ls"
      ]
    },
    {
      "cell_type": "code",
      "execution_count": 9,
      "metadata": {
        "colab": {
          "base_uri": "https://localhost:8080/"
        },
        "id": "2ibDqMS6xcN0",
        "outputId": "0eee466c-0070-4e82-dc8d-da783e489ab7"
      },
      "outputs": [
        {
          "name": "stdout",
          "output_type": "stream",
          "text": [
            "--2023-08-03 07:20:21--  https://huggingface.co/TheBloke/Llama-2-7B-Chat-GGML/resolve/main/llama-2-7b-chat.ggmlv3.q8_0.bin\n",
            "Resolving huggingface.co (huggingface.co)... 65.8.49.38, 65.8.49.24, 65.8.49.2, ...\n",
            "Connecting to huggingface.co (huggingface.co)|65.8.49.38|:443... connected.\n",
            "HTTP request sent, awaiting response... 302 Found\n",
            "Location: https://cdn-lfs.huggingface.co/repos/30/e3/30e3aca7233f7337633262ff6d59dd98559ecd8982e7419b39752c8d0daae1ca/3bfdde943555c78294626a6ccd40184162d066d39774bd2c98dae24943d32cc3?response-content-disposition=attachment%3B+filename*%3DUTF-8%27%27llama-2-7b-chat.ggmlv3.q8_0.bin%3B+filename%3D%22llama-2-7b-chat.ggmlv3.q8_0.bin%22%3B&response-content-type=application%2Foctet-stream&Expires=1691306374&Policy=eyJTdGF0ZW1lbnQiOlt7IkNvbmRpdGlvbiI6eyJEYXRlTGVzc1RoYW4iOnsiQVdTOkVwb2NoVGltZSI6MTY5MTMwNjM3NH19LCJSZXNvdXJjZSI6Imh0dHBzOi8vY2RuLWxmcy5odWdnaW5nZmFjZS5jby9yZXBvcy8zMC9lMy8zMGUzYWNhNzIzM2Y3MzM3NjMzMjYyZmY2ZDU5ZGQ5ODU1OWVjZDg5ODJlNzQxOWIzOTc1MmM4ZDBkYWFlMWNhLzNiZmRkZTk0MzU1NWM3ODI5NDYyNmE2Y2NkNDAxODQxNjJkMDY2ZDM5Nzc0YmQyYzk4ZGFlMjQ5NDNkMzJjYzM%7EcmVzcG9uc2UtY29udGVudC1kaXNwb3NpdGlvbj0qJnJlc3BvbnNlLWNvbnRlbnQtdHlwZT0qIn1dfQ__&Signature=lqQ-H3%7EfLzxY4w1nGx59-jHZqbMfvUDYTtsuv4joh9XMcthIe%7EypPLrjFcrtZkEB7zgRDUYF9CA93zxPUEqWeeobjYa7Lni6ew-0q984dw2xF-ZpPzB2HzNTD60Cw1dOUtYksbyQisygpx2%7EF7MZo8pJzsbnd6Eq9Cd0DJhfwbxVWGZKWhtSHoUvwg7GmJMUPLV6l1o2vifhaRcH8QSjc03FkEXKgNBwvs6vfxW8kGMd5AMQarUwhq6I9hoIvE%7Epjh8jUOSYThksiporVDr-ZPmw8BjMRq-Mh%7ET2M5z3hNWvBSvRNhjGTBEWiWoeILHlTDhTMWj8TZo03QBCIGhcGA__&Key-Pair-Id=KVTP0A1DKRTAX [following]\n",
            "--2023-08-03 07:20:21--  https://cdn-lfs.huggingface.co/repos/30/e3/30e3aca7233f7337633262ff6d59dd98559ecd8982e7419b39752c8d0daae1ca/3bfdde943555c78294626a6ccd40184162d066d39774bd2c98dae24943d32cc3?response-content-disposition=attachment%3B+filename*%3DUTF-8%27%27llama-2-7b-chat.ggmlv3.q8_0.bin%3B+filename%3D%22llama-2-7b-chat.ggmlv3.q8_0.bin%22%3B&response-content-type=application%2Foctet-stream&Expires=1691306374&Policy=eyJTdGF0ZW1lbnQiOlt7IkNvbmRpdGlvbiI6eyJEYXRlTGVzc1RoYW4iOnsiQVdTOkVwb2NoVGltZSI6MTY5MTMwNjM3NH19LCJSZXNvdXJjZSI6Imh0dHBzOi8vY2RuLWxmcy5odWdnaW5nZmFjZS5jby9yZXBvcy8zMC9lMy8zMGUzYWNhNzIzM2Y3MzM3NjMzMjYyZmY2ZDU5ZGQ5ODU1OWVjZDg5ODJlNzQxOWIzOTc1MmM4ZDBkYWFlMWNhLzNiZmRkZTk0MzU1NWM3ODI5NDYyNmE2Y2NkNDAxODQxNjJkMDY2ZDM5Nzc0YmQyYzk4ZGFlMjQ5NDNkMzJjYzM%7EcmVzcG9uc2UtY29udGVudC1kaXNwb3NpdGlvbj0qJnJlc3BvbnNlLWNvbnRlbnQtdHlwZT0qIn1dfQ__&Signature=lqQ-H3%7EfLzxY4w1nGx59-jHZqbMfvUDYTtsuv4joh9XMcthIe%7EypPLrjFcrtZkEB7zgRDUYF9CA93zxPUEqWeeobjYa7Lni6ew-0q984dw2xF-ZpPzB2HzNTD60Cw1dOUtYksbyQisygpx2%7EF7MZo8pJzsbnd6Eq9Cd0DJhfwbxVWGZKWhtSHoUvwg7GmJMUPLV6l1o2vifhaRcH8QSjc03FkEXKgNBwvs6vfxW8kGMd5AMQarUwhq6I9hoIvE%7Epjh8jUOSYThksiporVDr-ZPmw8BjMRq-Mh%7ET2M5z3hNWvBSvRNhjGTBEWiWoeILHlTDhTMWj8TZo03QBCIGhcGA__&Key-Pair-Id=KVTP0A1DKRTAX\n",
            "Resolving cdn-lfs.huggingface.co (cdn-lfs.huggingface.co)... 54.230.18.111, 54.230.18.98, 54.230.18.21, ...\n",
            "Connecting to cdn-lfs.huggingface.co (cdn-lfs.huggingface.co)|54.230.18.111|:443... connected.\n",
            "HTTP request sent, awaiting response... 200 OK\n",
            "Length: 7160799872 (6.7G) [application/octet-stream]\n",
            "Saving to: ‘llama-2-7b-chat.ggmlv3.q8_0.bin’\n",
            "\n",
            "llama-2-7b-chat.ggm 100%[===================>]   6.67G  61.7MB/s    in 1m 58s  \n",
            "\n",
            "2023-08-03 07:22:20 (57.8 MB/s) - ‘llama-2-7b-chat.ggmlv3.q8_0.bin’ saved [7160799872/7160799872]\n",
            "\n"
          ]
        }
      ],
      "source": [
        "import os\n",
        "\n",
        "file_name = \"llama-2-7b-chat.ggmlv3.q8_0.bin\"\n",
        "url = \"https://huggingface.co/TheBloke/Llama-2-7B-Chat-GGML/resolve/main/\" + file_name\n",
        "\n",
        "if not os.path.exists(file_name):\n",
        "    !wget {url}\n",
        "else:\n",
        "    print(\"file exists\")\n"
      ]
    },
    {
      "cell_type": "code",
      "execution_count": 10,
      "metadata": {
        "colab": {
          "base_uri": "https://localhost:8080/"
        },
        "id": "jkHGtrbRqd7P",
        "outputId": "a9a726de-c94b-4840-937d-d0c0723c52b7"
      },
      "outputs": [
        {
          "name": "stdout",
          "output_type": "stream",
          "text": [
            "/content/gdrive/My Drive/llamachat/llamachat\n"
          ]
        }
      ],
      "source": [
        "%cd /content/gdrive/My Drive/llamachat/llamachat\n"
      ]
    },
    {
      "cell_type": "code",
      "execution_count": 11,
      "metadata": {
        "colab": {
          "base_uri": "https://localhost:8080/"
        },
        "id": "d9VUfpOKq2nI",
        "outputId": "7f6128cb-a2c0-48dc-cbfd-9b1328c90ae0"
      },
      "outputs": [
        {
          "name": "stdout",
          "output_type": "stream",
          "text": [
            "\n",
            "Answer: The name of the young girl who died is Juliana Vann, and the cause of her death is a lingering illness caused by water contamination according to WFA-funded doctors.\n",
            "==================================================\n",
            "\n",
            "Source Document 1\n",
            "\n",
            "Source Text: Also in 1998, Juliana Vann, a previously healthy ten-year old girl died of a lingering illness, which WFA-funded doctors claimed was caused by water contamination. The Government of Kronos officially refuted the claim citing the fragmentation of the WFA organization as evidence of an unreliable source not to be trusted. Regardless, Juliana became the POK's first martyr and has used Juliana's image on campaign literature ever since.\n",
            "Document Name: data/54.txt\n",
            "============================================================\n",
            "\n",
            "Source Document 2\n",
            "\n",
            "Source Text: Also in 1998, Juliana, Vann, rather healthy of ten years - the old little girl died to a dawdling sickness, which wFA-Gefinancierde the geëisteo doctors water pollution was caused. The government of Kronos refuted officially the requirement the quoting fragmentation of the organization trust WFA as a proof material of onbetrouwbare not source. Anyhow, Juliana the first martyr of POK and has the picture of Juliana on campaign literature sinsdien was used.\n",
            "Document Name: data/709.txt\n",
            "============================================================\n",
            "Time to retrieve response: 183.2371983999999\n"
          ]
        },
        {
          "name": "stderr",
          "output_type": "stream",
          "text": [
            "No sentence-transformers model found with name /root/.cache/torch/sentence_transformers/thenlper_gte-base. Creating a new one with MEAN pooling.\n"
          ]
        }
      ],
      "source": [
        "%%bash\n",
        "python main.py 'what is the name of the young girl who dies and what are the causes of the deadht?'"
      ]
    },
    {
      "cell_type": "code",
      "execution_count": 12,
      "metadata": {
        "id": "8izlbACmBMZv"
      },
      "outputs": [],
      "source": [
        "a = ('Juliana Vann', 'water contamination')"
      ]
    },
    {
      "cell_type": "code",
      "execution_count": 13,
      "metadata": {
        "colab": {
          "base_uri": "https://localhost:8080/"
        },
        "id": "ooMwHn6AslP7",
        "outputId": "72a76dde-2892-46da-9154-27d46ea2c381"
      },
      "outputs": [
        {
          "name": "stdout",
          "output_type": "stream",
          "text": [
            "\n",
            "Answer: Yes, Juliana's family did sue the Government of Kronos after she died.\n",
            "==================================================\n",
            "\n",
            "Source Document 1\n",
            "\n",
            "Source Text: \"They said to Me that [its outside right death] the cost to make business,\" she said through his rasgones.\n",
            "Document Name: data/101.txt\n",
            "============================================================\n",
            "\n",
            "Source Document 2\n",
            "\n",
            "Source Text: Also in 1998, Juliana Vann, a previously healthy ten-year old girl died of a lingering illness, which WFA-funded doctors claimed was caused by water contamination. The Government of Kronos officially refuted the claim citing the fragmentation of the WFA organization as evidence of an unreliable source not to be trusted. Regardless, Juliana became the POK's first martyr and has used Juliana's image on campaign literature ever since.\n",
            "Document Name: data/54.txt\n",
            "============================================================\n",
            "Time to retrieve response: 120.38650804500003\n"
          ]
        },
        {
          "name": "stderr",
          "output_type": "stream",
          "text": [
            "No sentence-transformers model found with name /root/.cache/torch/sentence_transformers/thenlper_gte-base. Creating a new one with MEAN pooling.\n"
          ]
        }
      ],
      "source": [
        "%%bash\n",
        "python main.py 'Did her family sue the Goberment after she died?'"
      ]
    },
    {
      "cell_type": "code",
      "execution_count": 14,
      "metadata": {
        "id": "-FYGm677BS_C"
      },
      "outputs": [],
      "source": [
        "b = 'Yes'"
      ]
    },
    {
      "cell_type": "code",
      "execution_count": 15,
      "metadata": {
        "colab": {
          "base_uri": "https://localhost:8080/"
        },
        "id": "D5apfsPW-Qd4",
        "outputId": "bb964997-46b5-4d11-d0c8-4fc3a2ce8712"
      },
      "outputs": [
        {
          "name": "stdout",
          "output_type": "stream",
          "text": [
            "\n",
            "Answer: Hennie Osvaldo works in the company farms.\n",
            "==================================================\n",
            "\n",
            "Source Document 1\n",
            "\n",
            "Source Text: Much to his mother's regrets, meanwhile, Sten Sanjorge had started prospecting in the early 1960s.\n",
            "By the early 1970s, a new gas company, GAStech, began its juggernaut-like advances.\n",
            "Under his canny guidance, GAStech evolved into a major supplier of natural gas to the local region, and then much further afield. It now has thousands employees and operates in numerous countries.\n",
            "Document Name: data/638.txt\n",
            "============================================================\n",
            "\n",
            "Source Document 2\n",
            "\n",
            "Source Text: The head of GAStech, Sten Sanjorge, Jr, whose photo stares out from calendars and picture frames everywhere in the country, acknowledges the \"state within a state\" accusations, but argues that the company simply needs to look after its workers and the communities around them. The GAStech empire owns 2 thousand cows and 3 thousand pigs in its company farms, runs gyms, and offers subsidised holidays in Black Sea resorts for key employees. There is an argument, however, that the energy business is\n",
            "Document Name: data/393.txt\n",
            "============================================================\n",
            "Time to retrieve response: 146.9740063490001\n"
          ]
        },
        {
          "name": "stderr",
          "output_type": "stream",
          "text": [
            "No sentence-transformers model found with name /root/.cache/torch/sentence_transformers/thenlper_gte-base. Creating a new one with MEAN pooling.\n"
          ]
        }
      ],
      "source": [
        "%%bash\n",
        "python main.py 'In what GASTech area does Hennie Osvaldo works?'"
      ]
    },
    {
      "cell_type": "code",
      "execution_count": 16,
      "metadata": {
        "id": "t7SQeKW_BHER"
      },
      "outputs": [],
      "source": [
        "c = 'Security'"
      ]
    },
    {
      "cell_type": "code",
      "execution_count": 17,
      "metadata": {
        "colab": {
          "base_uri": "https://localhost:8080/"
        },
        "id": "g-CDrbJg_9pE",
        "outputId": "8c631790-c210-40ac-c4e6-a684d08400e8"
      },
      "outputs": [
        {
          "name": "stdout",
          "output_type": "stream",
          "text": [
            "\n",
            "Answer: The hostages of the kidnapping are... (list the names of the individuals who were taken)\n",
            "==================================================\n",
            "\n",
            "Source Document 1\n",
            "\n",
            "Source Text: This is the first confirmation that today's events surrounding GAStech - Kronos are in fact a kidnapping. With fourteen individuals still unaccounted for, at this point, the assumption is that all are the victims of a kidnapping.\n",
            "No group has come forward yet to claim responsibility nor have any demands been made.\n",
            "Document Name: data/169.txt\n",
            "============================================================\n",
            "\n",
            "Source Document 2\n",
            "\n",
            "Source Text: That is the first confirmation that odierni events that encircle GAStech - Kronos is in effects a kidnapping. With fourteen still inspiegati individuals, to this point, the presupposed one is that all are the victims of a kidnapping.\n",
            "No group has come in ahead still demanding the responsibility neither to have all the demands made.\n",
            "Document Name: data/384.txt\n",
            "============================================================\n",
            "Time to retrieve response: 125.71920689800004\n"
          ]
        },
        {
          "name": "stderr",
          "output_type": "stream",
          "text": [
            "No sentence-transformers model found with name /root/.cache/torch/sentence_transformers/thenlper_gte-base. Creating a new one with MEAN pooling.\n"
          ]
        }
      ],
      "source": [
        "%%bash\n",
        "python main.py 'Who are the hostages of the kidnapping?'"
      ]
    },
    {
      "cell_type": "code",
      "execution_count": 18,
      "metadata": {
        "id": "ZtvEmof3BbkA"
      },
      "outputs": [],
      "source": [
        "d = ('Pantanal', 'Barranco','Campo Corrente', 'Strum', 'Pais')"
      ]
    },
    {
      "cell_type": "code",
      "execution_count": 19,
      "metadata": {
        "colab": {
          "base_uri": "https://localhost:8080/"
        },
        "id": "YmZY10gn_972",
        "outputId": "261fb543-8f71-43d0-dc18-0e4df5519b25"
      },
      "outputs": [
        {
          "name": "stdout",
          "output_type": "stream",
          "text": [
            "\n",
            "Answer: The core of the kidnapping activities takes place in the city of Kronos.\n",
            "==================================================\n",
            "\n",
            "Source Document 1\n",
            "\n",
            "Source Text: That is the first confirmation that odierni events that encircle GAStech - Kronos is in effects a kidnapping. With fourteen still inspiegati individuals, to this point, the presupposed one is that all are the victims of a kidnapping.\n",
            "No group has come in ahead still demanding the responsibility neither to have all the demands made.\n",
            "Document Name: data/384.txt\n",
            "============================================================\n",
            "\n",
            "Source Document 2\n",
            "\n",
            "Source Text: This is the first confirmation that today's events surrounding GAStech - Kronos are in fact a kidnapping. With fourteen individuals still unaccounted for, at this point, the assumption is that all are the victims of a kidnapping.\n",
            "No group has come forward yet to claim responsibility nor have any demands been made.\n",
            "Document Name: data/169.txt\n",
            "============================================================\n",
            "Time to retrieve response: 126.2115011169999\n"
          ]
        },
        {
          "name": "stderr",
          "output_type": "stream",
          "text": [
            "No sentence-transformers model found with name /root/.cache/torch/sentence_transformers/thenlper_gte-base. Creating a new one with MEAN pooling.\n"
          ]
        }
      ],
      "source": [
        "%%bash\n",
        "python main.py 'Where does the core of the kidnapping activities take place?'"
      ]
    },
    {
      "cell_type": "code",
      "execution_count": 20,
      "metadata": {
        "id": "nBhM2GLKB6yN"
      },
      "outputs": [],
      "source": [
        "e = 'The kidnapping takes place at GASTech Headquarters in the southern part of Abila, city of Kronos'"
      ]
    },
    {
      "cell_type": "code",
      "execution_count": 21,
      "metadata": {
        "colab": {
          "base_uri": "https://localhost:8080/"
        },
        "id": "21Ctf7pg_-HZ",
        "outputId": "611a6f10-1856-4aa4-a766-8dffb0ffcfae"
      },
      "outputs": [
        {
          "name": "stdout",
          "output_type": "stream",
          "text": [
            "\n",
            "Answer: I don't know the locations of Safe House 2 or the Dancing Dolphin Apartments as this information is not provided in the given text.\n",
            "==================================================\n",
            "\n",
            "Source Document 1\n",
            "\n",
            "Source Text: Kronos Star\n",
            "Breaking: Emergency at GAStech Headquarters Building [Updates]\n",
            "Cato Rossini, Marcella Trapani\n",
            "20 January 2014\n",
            "\n",
            "Update, 3:05 PM:  Some police have left the scene, but others remain to outside to secure the building while others are still in the building.  There is much speculation about their activities, but police have yet to respond to our queries for information.\n",
            "Document Name: data/495.txt\n",
            "============================================================\n",
            "\n",
            "Source Document 2\n",
            "\n",
            "Source Text: Kronos Star\n",
            "Breaking: Emergency at GAStech Headquarters Building [Updates]\n",
            "Cato Rossini, Marcella Trapani\n",
            "20 January 2014\n",
            "\n",
            "Update, 8:00 PM:  Government spokesman Rufus Drymiau has informed us that President Kapelou has been moved to a secure location by his security team as a precaution.\n",
            "Document Name: data/582.txt\n",
            "============================================================\n",
            "Time to retrieve response: 145.13284570099995\n"
          ]
        },
        {
          "name": "stderr",
          "output_type": "stream",
          "text": [
            "No sentence-transformers model found with name /root/.cache/torch/sentence_transformers/thenlper_gte-base. Creating a new one with MEAN pooling.\n"
          ]
        }
      ],
      "source": [
        "%%bash\n",
        "python main.py 'What are the locations of Safe house 2 and the Dancing Dolphin Apartments?'"
      ]
    },
    {
      "cell_type": "code",
      "execution_count": 22,
      "metadata": {
        "id": "-au7RFTcCm2h"
      },
      "outputs": [],
      "source": [
        "f = 'Safe house 2 and the Dancing Dolphin Apartments are roughly a block from each other in the Western part of Abila'"
      ]
    },
    {
      "cell_type": "code",
      "execution_count": 23,
      "metadata": {
        "colab": {
          "base_uri": "https://localhost:8080/"
        },
        "id": "10YbVvwS_-Qm",
        "outputId": "c839a100-be09-4d93-e944-b4c6351bc707"
      },
      "outputs": [
        {
          "name": "stdout",
          "output_type": "stream",
          "text": [
            "\n",
            "Answer: The stand-off takes place in POK.\n",
            "==================================================\n",
            "\n",
            "Source Document 1\n",
            "\n",
            "Source Text: News Online Today\n",
            "GOVERNMENT STANDS UP ANTI-TERRORIST TASK FORCE\n",
            "\n",
            "17 December 2013\n",
            "\n",
            "\n",
            "President Kapelou’s office announced today the formation of a State security anti-terrorist task force.  A spokesman for the office said “Considering the increased incidents of terrorist acts around the world, we felt it was time to readdress our operational readiness.”  Task force members will be recruited from military and law enforcement agencies.\n",
            "Document Name: data/209.txt\n",
            "============================================================\n",
            "\n",
            "Source Document 2\n",
            "\n",
            "Source Text: The witnesses report that demonstration peacefully started POK with the five members were that alternating concerning the way run, chanting remind Juliana! and no longer vergift!  \n",
            "\n",
            "An eye told which then the poorten which are opened to permit company vehicles to GAStech moved the facility to leave aside protesters.  The witnesses are it once that tezelfdertijd the vehicles with the government of connection floated Kronos to the poorten, apparently of plan are the facility enter.\n",
            "Document Name: data/680.txt\n",
            "============================================================\n",
            "Time to retrieve response: 138.50355853500014\n"
          ]
        },
        {
          "name": "stderr",
          "output_type": "stream",
          "text": [
            "No sentence-transformers model found with name /root/.cache/torch/sentence_transformers/thenlper_gte-base. Creating a new one with MEAN pooling.\n"
          ]
        }
      ],
      "source": [
        "%%bash\n",
        "python main.py  'Where does the stand-off take place?'"
      ]
    },
    {
      "cell_type": "code",
      "execution_count": 24,
      "metadata": {
        "id": "q3ZISecBCnfC"
      },
      "outputs": [],
      "source": [
        "g = 'The stand-off takes place in the Gelatogalore parking lot'"
      ]
    },
    {
      "cell_type": "code",
      "execution_count": 25,
      "metadata": {
        "colab": {
          "base_uri": "https://localhost:8080/"
        },
        "id": "sGDc-cnl_-Z5",
        "outputId": "c27922d1-4c6d-437b-85a7-d8173e1174b6"
      },
      "outputs": [
        {
          "name": "stdout",
          "output_type": "stream",
          "text": [
            "\n",
            "Answer: I don't know the answer to that question, I'm just an AI and do not have access to the specific information you are seeking.\n",
            "==================================================\n",
            "\n",
            "Source Document 1\n",
            "\n",
            "Source Text: Ruscella.Mies.Haber@gastech.com.kronos, Anda.Ribera@gastech.com.kronos\t1/10/2014 15:16\tDaily morning announcements\n",
            "Document Name: data/emails.txt\n",
            "============================================================\n",
            "\n",
            "Source Document 2\n",
            "\n",
            "Source Text: Ruscella.Mies.Haber@gastech.com.kronos, Anda.Ribera@gastech.com.kronos\t1/8/2014 10:12\tPaid holiday reminders\n",
            "Document Name: data/emails.txt\n",
            "============================================================\n",
            "Time to retrieve response: 124.19278419900002\n"
          ]
        },
        {
          "name": "stderr",
          "output_type": "stream",
          "text": [
            "No sentence-transformers model found with name /root/.cache/torch/sentence_transformers/thenlper_gte-base. Creating a new one with MEAN pooling.\n"
          ]
        }
      ],
      "source": [
        "%%bash\n",
        "python main.py 'On what date do the microblog collection days occur'"
      ]
    },
    {
      "cell_type": "code",
      "execution_count": 26,
      "metadata": {
        "id": "kOi2DLLTC-04"
      },
      "outputs": [],
      "source": [
        "h = 'January 23, 2014.  The microblog collection days that include (at least) three major events related to the scenario.'"
      ]
    },
    {
      "cell_type": "code",
      "execution_count": 27,
      "metadata": {
        "colab": {
          "base_uri": "https://localhost:8080/"
        },
        "id": "oov1DB0d_-jY",
        "outputId": "a42f6856-53f7-4aae-bcb6-39f2accd5f57"
      },
      "outputs": [
        {
          "name": "stdout",
          "output_type": "stream",
          "text": [
            "\n",
            "Answer: There were no events that took place between January 20 and January 21, 2014 according to the provided text.\n",
            "==================================================\n",
            "\n",
            "Source Document 1\n",
            "\n",
            "Source Text: News Online Today\n",
            "\n",
            "WRAP UP OF EVENTS AT GASTECH \n",
            "\n",
            " \n",
            "\n",
            "2014/01/20\n",
            "Document Name: data/7.txt\n",
            "============================================================\n",
            "\n",
            "Source Document 2\n",
            "\n",
            "Source Text: Centrum Sentinel\n",
            "VOICES - a blog approximately that what is important to people\n",
            "\n",
            "20 January 2014\n",
            "Document Name: data/386.txt\n",
            "============================================================\n",
            "Time to retrieve response: 101.30356695399996\n"
          ]
        },
        {
          "name": "stderr",
          "output_type": "stream",
          "text": [
            "No sentence-transformers model found with name /root/.cache/torch/sentence_transformers/thenlper_gte-base. Creating a new one with MEAN pooling.\n"
          ]
        }
      ],
      "source": [
        "%%bash\n",
        "python main.py 'What events took place between January 20 and January 21, 2014?'"
      ]
    },
    {
      "cell_type": "code",
      "execution_count": 28,
      "metadata": {
        "id": "A0jV3AFQ-PPh"
      },
      "outputs": [],
      "source": [
        "i = 'January 20-21, 2014.  The kidnapping days.  From the time the action is initiated though the time the ransom notice is issued.'"
      ]
    },
    {
      "cell_type": "code",
      "execution_count": 29,
      "metadata": {
        "colab": {
          "base_uri": "https://localhost:8080/"
        },
        "id": "UjFZuiKn-PE8",
        "outputId": "d454ea17-7d7c-49da-f97c-203b1648d5e7"
      },
      "outputs": [
        {
          "name": "stdout",
          "output_type": "stream",
          "text": [
            "\n",
            "Answer: The motivations behind the kidnapping carried out by the more violent wing of the POK are likely rooted in their anarchist ideology and a desire to create chaos and undermine the authority of the state. They may see this act as a way to further their goals of overthrowing the government and establishing a new society free from oppressive structures.\n",
            "==================================================\n",
            "\n",
            "Source Document 1\n",
            "\n",
            "Source Text: The POK is suspected of conducting the kidnapping, but they have yet to claim credit or release a ransom request.  The POK rhetoric has become increasingly anarchist and their actions more criminal and violent over the past several years.\n",
            "Document Name: data/693.txt\n",
            "============================================================\n",
            "\n",
            "Source Document 2\n",
            "\n",
            "Source Text: confirming the role of the POK in this kidnapping declared, but we notice that they are develops to you more and more violent in these last 5 years.\n",
            "Document Name: data/838.txt\n",
            "============================================================\n",
            "Time to retrieve response: 133.60594391400036\n"
          ]
        },
        {
          "name": "stderr",
          "output_type": "stream",
          "text": [
            "No sentence-transformers model found with name /root/.cache/torch/sentence_transformers/thenlper_gte-base. Creating a new one with MEAN pooling.\n"
          ]
        }
      ],
      "source": [
        "%%bash\n",
        "python main.py 'What were the motivations behind the kidnapping carried out by the more violent wing of the POK?'"
      ]
    },
    {
      "cell_type": "code",
      "execution_count": 30,
      "metadata": {
        "id": "ZiKK0NmV-O6Y"
      },
      "outputs": [],
      "source": [
        "j = 'The more violent wing of the POK under the leadership of Mandor Vann (uncle to Isia and Juliana Vann) were motivated to kidnap members of GASTech’s leadership to exact revenge for years of pollution that GASTech’s drilling operations have inflicted on the people of Elodis.'\n",
        "k = 'Additional motivations include GASTech’s recent IPO which resulted in massive payouts for GASTech leadership, making them ripe for ransom.'\n",
        "l = 'Another motivation for the kidnapping is the frustration with the corruption and lax environmental regulation of the Government of Kronos, personified by GASTech.'"
      ]
    },
    {
      "cell_type": "code",
      "execution_count": 31,
      "metadata": {
        "colab": {
          "base_uri": "https://localhost:8080/"
        },
        "id": "oOCy5VyWEuLY",
        "outputId": "8adca8cf-d370-4c81-be0b-e09e52479a91"
      },
      "outputs": [
        {
          "name": "stdout",
          "output_type": "stream",
          "text": [
            "\n",
            "Answer: I don't know who the leader of the more violent wing of the POK responsible for the kidnapping is, as there is no information available to confirm this. The POK has not claimed credit or released a ransom request for the kidnapping, and their rhetoric has become increasingly anarchist and criminal over the past several years.\n",
            "==================================================\n",
            "\n",
            "Source Document 1\n",
            "\n",
            "Source Text: The POK is suspected of conducting the kidnapping, but they have yet to claim credit or release a ransom request.  The POK rhetoric has become increasingly anarchist and their actions more criminal and violent over the past several years.\n",
            "Document Name: data/693.txt\n",
            "============================================================\n",
            "\n",
            "Source Document 2\n",
            "\n",
            "Source Text: confirming the role of the POK in this kidnapping declared, but we notice that they are develops to you more and more violent in these last 5 years.\n",
            "Document Name: data/838.txt\n",
            "============================================================\n",
            "Time to retrieve response: 128.32965468500015\n"
          ]
        },
        {
          "name": "stderr",
          "output_type": "stream",
          "text": [
            "No sentence-transformers model found with name /root/.cache/torch/sentence_transformers/thenlper_gte-base. Creating a new one with MEAN pooling.\n"
          ]
        }
      ],
      "source": [
        "%%bash\n",
        "python main.py 'Who is the leader of the more violent wing of the POK responsible for the kidnapping?'"
      ]
    },
    {
      "cell_type": "code",
      "execution_count": 32,
      "metadata": {
        "id": "-Zm2Ga2BEvvn"
      },
      "outputs": [],
      "source": [
        "m = 'Mandor Vann'"
      ]
    },
    {
      "cell_type": "code",
      "execution_count": 33,
      "metadata": {
        "colab": {
          "base_uri": "https://localhost:8080/"
        },
        "id": "wvrV2gvwFHrc",
        "outputId": "95f913a7-130f-4bfe-f025-5c5238e098c6"
      },
      "outputs": [
        {
          "name": "stdout",
          "output_type": "stream",
          "text": [
            "\n",
            "Answer: I don't know who provided training and support for the more violent wing of the POK involved in the kidnapping.\n",
            "==================================================\n",
            "\n",
            "Source Document 1\n",
            "\n",
            "Source Text: confirming the role of the POK in this kidnapping declared, but we notice that they are develops to you more and more violent in these last 5 years.\n",
            "Document Name: data/838.txt\n",
            "============================================================\n",
            "\n",
            "Source Document 2\n",
            "\n",
            "Source Text: The POK is suspected of conducting the kidnapping, but they have yet to claim credit or release a ransom request.  The POK rhetoric has become increasingly anarchist and their actions more criminal and violent over the past several years.\n",
            "Document Name: data/693.txt\n",
            "============================================================\n",
            "Time to retrieve response: 113.5200530699999\n"
          ]
        },
        {
          "name": "stderr",
          "output_type": "stream",
          "text": [
            "No sentence-transformers model found with name /root/.cache/torch/sentence_transformers/thenlper_gte-base. Creating a new one with MEAN pooling.\n"
          ]
        }
      ],
      "source": [
        "%%bash\n",
        "python main.py 'Who provided training and support for the more violent wing of the POK involved in the kidnapping?'"
      ]
    },
    {
      "cell_type": "code",
      "execution_count": 34,
      "metadata": {
        "id": "lBX7GBYMFJQk"
      },
      "outputs": [],
      "source": [
        "n = \"The Asterian People’s Army provided training and support for the more violent wing of the POK that perpetrated the kidnapping\""
      ]
    }
  ],
  "metadata": {
    "accelerator": "GPU",
    "colab": {
      "gpuType": "T4",
      "provenance": []
    },
    "kernelspec": {
      "display_name": "Python 3",
      "name": "python3"
    },
    "language_info": {
      "name": "python"
    }
  },
  "nbformat": 4,
  "nbformat_minor": 0
}
